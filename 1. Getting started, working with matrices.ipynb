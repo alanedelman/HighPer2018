{
 "cells": [
  {
   "cell_type": "markdown",
   "metadata": {},
   "source": [
    "# Playing with matrices\n",
    "(and if you get the subliminal message about abstractions, we'll be thrilled!)"
   ]
  },
  {
   "cell_type": "markdown",
   "metadata": {},
   "source": [
    "Julia is a dynamic language.  You don't need type declarations, and can change variable types dynamically and interactively.\n",
    "\n",
    "For working with simple numbers, arrays, and strings, its syntax is *superficially* similar to Matlab, Python, and other popular languages.\n",
    "\n",
    "In order to execute the `In` cells, select the cell and press `Shift-Enter`, or press the `Play` button above. To run the entire notebook, navigate to the `Cell` menu and then `Run All`."
   ]
  },
  {
   "cell_type": "markdown",
   "metadata": {},
   "source": [
    "# We tell beginners, you don't need types!"
   ]
  },
  {
   "cell_type": "code",
   "execution_count": 2,
   "metadata": {},
   "outputs": [
    {
     "data": {
      "text/plain": [
       "Float64"
      ]
     },
     "execution_count": 2,
     "metadata": {},
     "output_type": "execute_result"
    }
   ],
   "source": [
    "typeof(1.0)"
   ]
  },
  {
   "cell_type": "code",
   "execution_count": 3,
   "metadata": {},
   "outputs": [
    {
     "data": {
      "text/plain": [
       "Int64"
      ]
     },
     "execution_count": 3,
     "metadata": {},
     "output_type": "execute_result"
    }
   ],
   "source": [
    "typeof(1)"
   ]
  },
  {
   "cell_type": "code",
   "execution_count": 7,
   "metadata": {},
   "outputs": [
    {
     "data": {
      "text/plain": [
       "\"0011111111110000000000000000000000000000000000000000000000000000\""
      ]
     },
     "execution_count": 7,
     "metadata": {},
     "output_type": "execute_result"
    }
   ],
   "source": [
    "bits(1.0)"
   ]
  },
  {
   "cell_type": "code",
   "execution_count": 8,
   "metadata": {},
   "outputs": [
    {
     "data": {
      "text/plain": [
       "String"
      ]
     },
     "execution_count": 8,
     "metadata": {},
     "output_type": "execute_result"
    }
   ],
   "source": [
    "S = \"Hello Julia Clsas\"\n",
    "typeof(S)"
   ]
  },
  {
   "cell_type": "code",
   "execution_count": 9,
   "metadata": {},
   "outputs": [
    {
     "data": {
      "text/plain": [
       "\"Hello Julia Clsas\""
      ]
     },
     "execution_count": 9,
     "metadata": {},
     "output_type": "execute_result"
    }
   ],
   "source": [
    "#  Exercise fix my spelling in the cell above\n",
    "S"
   ]
  },
  {
   "cell_type": "markdown",
   "metadata": {},
   "source": [
    "# Now forget all that (for now): Julia is not so different from your favorite dynamic language"
   ]
  },
  {
   "cell_type": "code",
   "execution_count": 19,
   "metadata": {},
   "outputs": [
    {
     "data": {
      "text/plain": [
       "'b': ASCII/Unicode U+0062 (category Ll: Letter, lowercase)"
      ]
     },
     "execution_count": 19,
     "metadata": {},
     "output_type": "execute_result"
    }
   ],
   "source": [
    "a = 'a'\n",
    "1 + a\n",
    "\n",
    "# shift + enter to run"
   ]
  },
  {
   "cell_type": "code",
   "execution_count": 24,
   "metadata": {},
   "outputs": [
    {
     "data": {
      "text/plain": [
       "5×5 Array{Char,2}:\n",
       " 'b'  'a'  'a'  'a'  'b'\n",
       " 'a'  'a'  'a'  'a'  'a'\n",
       " 'a'  'a'  'a'  'b'  'b'\n",
       " 'b'  'b'  'b'  'b'  'a'\n",
       " 'b'  'b'  'b'  'a'  'b'"
      ]
     },
     "execution_count": 24,
     "metadata": {},
     "output_type": "execute_result"
    }
   ],
   "source": [
    "A = rand(['a','b'],5,5)"
   ]
  },
  {
   "cell_type": "code",
   "execution_count": 27,
   "metadata": {},
   "outputs": [
    {
     "data": {
      "text/plain": [
       "4×4 SymTridiagonal{Int64}:\n",
       " 3  2  ⋅  ⋅\n",
       " 2  4  3  ⋅\n",
       " ⋅  3  3  2\n",
       " ⋅  ⋅  2  1"
      ]
     },
     "execution_count": 27,
     "metadata": {},
     "output_type": "execute_result"
    }
   ],
   "source": [
    "A = SymTridiagonal(rand(1:4,4), rand(1:3,3))"
   ]
  },
  {
   "cell_type": "code",
   "execution_count": 35,
   "metadata": {},
   "outputs": [
    {
     "data": {
      "text/plain": [
       "4×4 SparseMatrixCSC{Int64,Int64} with 10 stored entries:\n",
       "  [1, 1]  =  21\n",
       "  [2, 1]  =  14\n",
       "  [1, 2]  =  14\n",
       "  [2, 2]  =  28\n",
       "  [3, 2]  =  21\n",
       "  [2, 3]  =  21\n",
       "  [3, 3]  =  21\n",
       "  [4, 3]  =  14\n",
       "  [3, 4]  =  14\n",
       "  [4, 4]  =  7"
      ]
     },
     "execution_count": 35,
     "metadata": {},
     "output_type": "execute_result"
    }
   ],
   "source": [
    "A .* 7"
   ]
  },
  {
   "cell_type": "code",
   "execution_count": 28,
   "metadata": {},
   "outputs": [
    {
     "name": "stdout",
     "output_type": "stream",
     "text": [
      "SymTridiagonal{Int64}\n",
      "  dv: Array{Int64}((4,)) [3, 4, 3, 1]\n",
      "  ev: Array{Int64}((3,)) [2, 3, 2]\n"
     ]
    }
   ],
   "source": [
    "dump(A)"
   ]
  },
  {
   "cell_type": "code",
   "execution_count": 31,
   "metadata": {},
   "outputs": [
    {
     "data": {
      "text/plain": [
       "4-element Array{Float64,1}:\n",
       "  0.551501\n",
       " -0.392238\n",
       "  0.266373\n",
       "  0.411816"
      ]
     },
     "execution_count": 31,
     "metadata": {},
     "output_type": "execute_result"
    }
   ],
   "source": [
    "b = rand(4)\n",
    "A \\ b # Solve Ax = b for x"
   ]
  },
  {
   "cell_type": "code",
   "execution_count": 38,
   "metadata": {},
   "outputs": [
    {
     "data": {
      "text/plain": [
       "4×5 Array{Int64,2}:\n",
       " 2  2  2  2  2\n",
       " 2  2  2  2  2\n",
       " 2  2  2  2  2\n",
       " 2  2  2  2  2"
      ]
     },
     "execution_count": 38,
     "metadata": {},
     "output_type": "execute_result"
    }
   ],
   "source": [
    "A = fill(2, 4, 5) # Fill a 5x5 array with 3.15's"
   ]
  },
  {
   "cell_type": "markdown",
   "metadata": {},
   "source": [
    "# Let's create some addition tables"
   ]
  },
  {
   "cell_type": "markdown",
   "metadata": {},
   "source": [
    "First let's use a nested for loop to fill in a matrix that's initially zero:"
   ]
  },
  {
   "cell_type": "code",
   "execution_count": 42,
   "metadata": {},
   "outputs": [
    {
     "data": {
      "text/plain": [
       "5×5 Array{Int64,2}:\n",
       " 2  3  4  5   6\n",
       " 3  4  5  6   7\n",
       " 4  5  6  7   8\n",
       " 5  6  7  8   9\n",
       " 6  7  8  9  10"
      ]
     },
     "execution_count": 42,
     "metadata": {},
     "output_type": "execute_result"
    }
   ],
   "source": [
    "A = zeros(Int, 5, 5)\n",
    "\n",
    "for i in 1:5\n",
    "    for j in 1:5\n",
    "        A[i, j] = i+j  # Square brackets for indices.  Also: indices start at 1, not 0.\n",
    "    end\n",
    "end\n",
    "\n",
    "A"
   ]
  },
  {
   "cell_type": "markdown",
   "metadata": {},
   "source": [
    "We can abbreviate this using a double `for` loop:"
   ]
  },
  {
   "cell_type": "code",
   "execution_count": 43,
   "metadata": {},
   "outputs": [
    {
     "data": {
      "text/plain": [
       "5×5 Array{Int64,2}:\n",
       " 2  3  4  5   6\n",
       " 3  4  5  6   7\n",
       " 4  5  6  7   8\n",
       " 5  6  7  8   9\n",
       " 6  7  8  9  10"
      ]
     },
     "execution_count": 43,
     "metadata": {},
     "output_type": "execute_result"
    }
   ],
   "source": [
    "for i in 1:5, j in 1:5\n",
    "   A[i, j] = i+j  # Square brackets for indices.  Also: indices start at 1, not 0.\n",
    "end\n",
    "\n",
    "A"
   ]
  },
  {
   "cell_type": "markdown",
   "metadata": {},
   "source": [
    "The Julia way would be to use a so-called **array comprehension**:"
   ]
  },
  {
   "cell_type": "code",
   "execution_count": 44,
   "metadata": {},
   "outputs": [
    {
     "data": {
      "text/plain": [
       "5×5 Array{Int64,2}:\n",
       " 2  3  4  5   6\n",
       " 3  4  5  6   7\n",
       " 4  5  6  7   8\n",
       " 5  6  7  8   9\n",
       " 6  7  8  9  10"
      ]
     },
     "execution_count": 44,
     "metadata": {},
     "output_type": "execute_result"
    }
   ],
   "source": [
    "[i+j for i in 1:5, j in 1:5]"
   ]
  },
  {
   "cell_type": "code",
   "execution_count": 45,
   "metadata": {},
   "outputs": [
    {
     "data": {
      "text/plain": [
       "5×5 Array{Int64,2}:\n",
       " 2  3  4  5   6\n",
       " 3  4  5  6   7\n",
       " 4  5  6  7   8\n",
       " 5  6  7  8   9\n",
       " 6  7  8  9  10"
      ]
     },
     "execution_count": 45,
     "metadata": {},
     "output_type": "execute_result"
    }
   ],
   "source": [
    "# Equivalently,\n",
    "[i+j for i = 1:5, j = 1:5]"
   ]
  },
  {
   "cell_type": "code",
   "execution_count": 46,
   "metadata": {},
   "outputs": [
    {
     "data": {
      "text/plain": [
       "5×5 Array{Int64,2}:\n",
       " 2  3  4  5   6\n",
       " 3  4  5  6   7\n",
       " 4  5  6  7   8\n",
       " 5  6  7  8   9\n",
       " 6  7  8  9  10"
      ]
     },
     "execution_count": 46,
     "metadata": {},
     "output_type": "execute_result"
    }
   ],
   "source": [
    "[i+j for i ∈ 1:5, j ∈ 1:5] # \\in + <tab> yields ∈"
   ]
  },
  {
   "cell_type": "code",
   "execution_count": 54,
   "metadata": {},
   "outputs": [
    {
     "data": {
      "text/plain": [
       "\"I ♡ San Sebastian\""
      ]
     },
     "execution_count": 54,
     "metadata": {},
     "output_type": "execute_result"
    }
   ],
   "source": [
    "\n",
    "♡ = 3\n",
    "♡ ^ 10\n",
    "\"I ♡ San Sebastian\""
   ]
  },
  {
   "cell_type": "markdown",
   "metadata": {},
   "source": [
    "**Explore**: What does the following do? "
   ]
  },
  {
   "cell_type": "code",
   "execution_count": 57,
   "metadata": {},
   "outputs": [
    {
     "data": {
      "text/plain": [
       "7-element Array{Float64,1}:\n",
       "  0.841471\n",
       "  0.909297\n",
       "  0.14112 \n",
       " -0.756802\n",
       " -0.958924\n",
       " -0.279415\n",
       "  0.656987"
      ]
     },
     "execution_count": 57,
     "metadata": {},
     "output_type": "execute_result"
    }
   ],
   "source": [
    "[i for i in sin.(1:7)]"
   ]
  },
  {
   "cell_type": "code",
   "execution_count": null,
   "metadata": {},
   "outputs": [],
   "source": []
  },
  {
   "cell_type": "code",
   "execution_count": 56,
   "metadata": {},
   "outputs": [
    {
     "ename": "LoadError",
     "evalue": "\u001b[91mDimensionMismatch(\"Cannot multiply two vectors\")\u001b[39m",
     "output_type": "error",
     "traceback": [
      "\u001b[91mDimensionMismatch(\"Cannot multiply two vectors\")\u001b[39m",
      "",
      "Stacktrace:",
      " [1] \u001b[1mpower_by_squaring\u001b[22m\u001b[22m\u001b[1m(\u001b[22m\u001b[22m::UnitRange{Int64}, ::Int64\u001b[1m)\u001b[22m\u001b[22m at \u001b[1m./intfuncs.jl:166\u001b[22m\u001b[22m",
      " [2] \u001b[1mliteral_pow\u001b[22m\u001b[22m\u001b[1m(\u001b[22m\u001b[22m::Base.#^, ::UnitRange{Int64}, ::Type{Val{2}}\u001b[1m)\u001b[22m\u001b[22m at \u001b[1m./intfuncs.jl:205\u001b[22m\u001b[22m",
      " [3] \u001b[1minclude_string\u001b[22m\u001b[22m\u001b[1m(\u001b[22m\u001b[22m::String, ::String\u001b[1m)\u001b[22m\u001b[22m at \u001b[1m./loading.jl:515\u001b[22m\u001b[22m"
     ]
    }
   ],
   "source": [
    "# What happens when  we remove the dot syntax?\n",
    "[i for i in (1:7)^2]"
   ]
  },
  {
   "cell_type": "code",
   "execution_count": null,
   "metadata": {
    "collapsed": true
   },
   "outputs": [],
   "source": [
    "[i^2 for i in 1:7]"
   ]
  },
  {
   "cell_type": "markdown",
   "metadata": {},
   "source": [
    "**Explore**: What does the following do? "
   ]
  },
  {
   "cell_type": "code",
   "execution_count": null,
   "metadata": {},
   "outputs": [],
   "source": [
    "sort(unique(x^2 + y^2 for x in 1:5, y in 1:5))  # The inner parentheses define a **generator**"
   ]
  },
  {
   "cell_type": "markdown",
   "metadata": {},
   "source": [
    "Suppose we want to see $n \\times n$ multiplication tables for $n=1,2,3,4,5$:"
   ]
  },
  {
   "cell_type": "code",
   "execution_count": 58,
   "metadata": {},
   "outputs": [
    {
     "data": {
      "text/plain": [
       "1×1 Array{Int64,2}:\n",
       " 1"
      ]
     },
     "metadata": {},
     "output_type": "display_data"
    },
    {
     "data": {
      "text/plain": [
       "2×2 Array{Int64,2}:\n",
       " 1  2\n",
       " 2  4"
      ]
     },
     "metadata": {},
     "output_type": "display_data"
    },
    {
     "data": {
      "text/plain": [
       "3×3 Array{Int64,2}:\n",
       " 1  2  3\n",
       " 2  4  6\n",
       " 3  6  9"
      ]
     },
     "metadata": {},
     "output_type": "display_data"
    },
    {
     "data": {
      "text/plain": [
       "4×4 Array{Int64,2}:\n",
       " 1  2   3   4\n",
       " 2  4   6   8\n",
       " 3  6   9  12\n",
       " 4  8  12  16"
      ]
     },
     "metadata": {},
     "output_type": "display_data"
    },
    {
     "data": {
      "text/plain": [
       "5×5 Array{Int64,2}:\n",
       " 1   2   3   4   5\n",
       " 2   4   6   8  10\n",
       " 3   6   9  12  15\n",
       " 4   8  12  16  20\n",
       " 5  10  15  20  25"
      ]
     },
     "metadata": {},
     "output_type": "display_data"
    }
   ],
   "source": [
    "for n in 1:5\n",
    "    display([i*j for i=1:n, j=1:n])\n",
    "end"
   ]
  },
  {
   "cell_type": "markdown",
   "metadata": {},
   "source": [
    "# `Interact.jl` is a Julia *package* for interacting with data"
   ]
  },
  {
   "cell_type": "markdown",
   "metadata": {},
   "source": [
    "It's way more fun to **interact** with our data.\n",
    "We install the `Interact.jl` package as follows; this needs to be executed only once for any given Julia installation:"
   ]
  },
  {
   "cell_type": "code",
   "execution_count": null,
   "metadata": {
    "collapsed": true
   },
   "outputs": [],
   "source": [
    "# Pkg.add(\"Interact\")"
   ]
  },
  {
   "cell_type": "markdown",
   "metadata": {},
   "source": [
    "Now we load the package with the following `using` command, in each Julia session:"
   ]
  },
  {
   "cell_type": "code",
   "execution_count": 59,
   "metadata": {},
   "outputs": [
    {
     "data": {
      "text/html": [
       "<div id=\"interact-js-shim\">\n",
       "    <script charset=\"utf-8\">\n",
       "(function (IPython, $, _, MathJax) {\n",
       "    $.event.special.destroyed = {\n",
       "\tremove: function(o) {\n",
       "\t    if (o.handler) {\n",
       "\t\to.handler.apply(this, arguments)\n",
       "\t    }\n",
       "\t}\n",
       "    }\n",
       "\n",
       "    var OutputArea = IPython.version >= \"4.0.0\" ? require(\"notebook/js/outputarea\").OutputArea : IPython.OutputArea;\n",
       "\n",
       "    var redrawValue = function (container, type, val) {\n",
       "\tvar selector = $(\"<div/>\");\n",
       "\tvar oa = new OutputArea(_.extend(selector, {\n",
       "\t    selector: selector,\n",
       "\t    prompt_area: true,\n",
       "\t    events: IPython.events,\n",
       "\t    keyboard_manager: IPython.keyboard_manager\n",
       "\t})); // Hack to work with IPython 2.1.0\n",
       "\n",
       "\tswitch (type) {\n",
       "\tcase \"image/png\":\n",
       "            var _src = 'data:' + type + ';base64,' + val;\n",
       "\t    $(container).find(\"img\").attr('src', _src);\n",
       "\t    break;\n",
       "\tcase \"text/latex\":\n",
       "\t\tif (MathJax){\n",
       "\t\t\tvar math = MathJax.Hub.getAllJax(container)[0];\n",
       "\t\t\tMathJax.Hub.Queue([\"Text\", math, val.replace(/^\\${1,2}|\\${1,2}$/g, '')]);\n",
       "\t\t\tbreak;\n",
       "\t\t}\n",
       "\tdefault:\n",
       "\t    var toinsert = OutputArea.append_map[type].apply(\n",
       "\t\toa, [val, {}, selector]\n",
       "\t    );\n",
       "\t    $(container).empty().append(toinsert.contents());\n",
       "\t    selector.remove();\n",
       "\t}\n",
       "    }\n",
       "\n",
       "\n",
       "    $(document).ready(function() {\n",
       "\tfunction initComm(evt, data) {\n",
       "\t    var comm_manager = data.kernel.comm_manager;\n",
       "        //_.extend(comm_manager.targets, require(\"widgets/js/widget\"))\n",
       "\t    comm_manager.register_target(\"Signal\", function (comm) {\n",
       "            comm.on_msg(function (msg) {\n",
       "                var val = msg.content.data.value;\n",
       "                $(\".signal-\" + comm.comm_id).each(function() {\n",
       "                var type = $(this).data(\"type\");\n",
       "                if (typeof(val[type]) !== \"undefined\" && val[type] !== null) {\n",
       "                    redrawValue(this, type, val[type], type);\n",
       "                }\n",
       "                });\n",
       "                delete val;\n",
       "                delete msg.content.data.value;\n",
       "            });\n",
       "\t    });\n",
       "\n",
       "\t    // coordingate with Comm and redraw Signals\n",
       "\t    // XXX: Test using Reactive here to improve performance\n",
       "\t    $([IPython.events]).on(\n",
       "\t\t'output_appended.OutputArea', function (event, type, value, md, toinsert) {\n",
       "\t\t    if (md && md.reactive) {\n",
       "                // console.log(md.comm_id);\n",
       "                toinsert.addClass(\"signal-\" + md.comm_id);\n",
       "                toinsert.data(\"type\", type);\n",
       "                // Signal back indicating the mimetype required\n",
       "                var comm_manager = IPython.notebook.kernel.comm_manager;\n",
       "                var comm = comm_manager.comms[md.comm_id];\n",
       "                comm.then(function (c) {\n",
       "                    c.send({action: \"subscribe_mime\",\n",
       "                       mime: type});\n",
       "                    toinsert.bind(\"destroyed\", function() {\n",
       "                        c.send({action: \"unsubscribe_mime\",\n",
       "                               mime: type});\n",
       "                    });\n",
       "                })\n",
       "\t\t    }\n",
       "\t    });\n",
       "\t}\n",
       "\n",
       "\ttry {\n",
       "\t    // try to initialize right away. otherwise, wait on the status_started event.\n",
       "\t    initComm(undefined, IPython.notebook);\n",
       "\t} catch (e) {\n",
       "\t    $([IPython.events]).on('kernel_created.Kernel kernel_created.Session', initComm);\n",
       "\t}\n",
       "    });\n",
       "})(IPython, jQuery, _, MathJax);\n",
       "</script>\n",
       "    <script>\n",
       "        window.interactLoadedFlag = true\n",
       "       $(\"#interact-js-shim\").bind(\"destroyed\", function () {\n",
       "           if (window.interactLoadedFlag) {\n",
       "               console.warn(\"JavaScript required by Interact will be removed if you remove this cell or run using Interact more than once.\")\n",
       "           }\n",
       "       })\n",
       "       $([IPython.events]).on(\"kernel_starting.Kernel kernel_restarting.Kernel\", function () { window.interactLoadedFlag = false })\n",
       "   </script>\n",
       "</div>"
      ]
     },
     "metadata": {},
     "output_type": "display_data"
    }
   ],
   "source": [
    "using Interact"
   ]
  },
  {
   "cell_type": "markdown",
   "metadata": {},
   "source": [
    "The package contains a `@manipulate` macro, that is wrapped around a `for` loop:"
   ]
  },
  {
   "cell_type": "code",
   "execution_count": 60,
   "metadata": {},
   "outputs": [
    {
     "data": {
      "application/vnd.jupyter.widget-view+json": {
       "model_id": "41f57b7c-cba3-4af3-920a-aba0776a70db",
       "version_major": 2,
       "version_minor": 0
      }
     },
     "metadata": {},
     "output_type": "display_data"
    },
    {
     "data": {
      "text/html": [],
      "text/plain": [
       "Interact.Options{:SelectionSlider,Any}(1: \"input\" = 500 Any , \"n\", 500, \"500\", 500, Interact.OptionDict(DataStructures.OrderedDict{Any,Any}(\"1\"=>1,\"2\"=>2,\"3\"=>3,\"4\"=>4,\"5\"=>5,\"6\"=>6,\"7\"=>7,\"8\"=>8,\"9\"=>9,\"10\"=>10…), Dict{Any,Any}(Pair{Any,Any}(306, \"306\"),Pair{Any,Any}(29, \"29\"),Pair{Any,Any}(74, \"74\"),Pair{Any,Any}(905, \"905\"),Pair{Any,Any}(176, \"176\"),Pair{Any,Any}(892, \"892\"),Pair{Any,Any}(285, \"285\"),Pair{Any,Any}(318, \"318\"),Pair{Any,Any}(873, \"873\"),Pair{Any,Any}(975, \"975\")…)), Any[], Any[], true, \"horizontal\")"
      ]
     },
     "metadata": {},
     "output_type": "display_data"
    },
    {
     "data": {
      "text/plain": [
       "500"
      ]
     },
     "execution_count": 60,
     "metadata": {
      "comm_id": "f876b0ee-99ef-4525-8815-fb0109bd3bcc",
      "reactive": true
     },
     "output_type": "execute_result"
    }
   ],
   "source": [
    "@manipulate for n in 1:1000\n",
    "    n\n",
    "end"
   ]
  },
  {
   "cell_type": "code",
   "execution_count": 61,
   "metadata": {},
   "outputs": [
    {
     "data": {
      "application/vnd.jupyter.widget-view+json": {
       "model_id": "01193a87-f23f-4f24-b340-2bca8ea9a205",
       "version_major": 2,
       "version_minor": 0
      }
     },
     "metadata": {},
     "output_type": "display_data"
    },
    {
     "data": {
      "text/html": [],
      "text/plain": [
       "Interact.Options{:SelectionSlider,Any}(5: \"input-2\" = 10 Any , \"n\", 10, \"10\", 10, Interact.OptionDict(DataStructures.OrderedDict{Any,Any}(\"1\"=>1,\"2\"=>2,\"3\"=>3,\"4\"=>4,\"5\"=>5,\"6\"=>6,\"7\"=>7,\"8\"=>8,\"9\"=>9,\"10\"=>10…), Dict{Any,Any}(Pair{Any,Any}(18, \"18\"),Pair{Any,Any}(2, \"2\"),Pair{Any,Any}(16, \"16\"),Pair{Any,Any}(11, \"11\"),Pair{Any,Any}(7, \"7\"),Pair{Any,Any}(9, \"9\"),Pair{Any,Any}(10, \"10\"),Pair{Any,Any}(19, \"19\"),Pair{Any,Any}(17, \"17\"),Pair{Any,Any}(8, \"8\")…)), Any[], Any[], true, \"horizontal\")"
      ]
     },
     "metadata": {},
     "output_type": "display_data"
    },
    {
     "data": {
      "text/plain": [
       "10×10 Array{Int64,2}:\n",
       "  1   2   3   4   5   6   7   8   9   10\n",
       "  2   4   6   8  10  12  14  16  18   20\n",
       "  3   6   9  12  15  18  21  24  27   30\n",
       "  4   8  12  16  20  24  28  32  36   40\n",
       "  5  10  15  20  25  30  35  40  45   50\n",
       "  6  12  18  24  30  36  42  48  54   60\n",
       "  7  14  21  28  35  42  49  56  63   70\n",
       "  8  16  24  32  40  48  56  64  72   80\n",
       "  9  18  27  36  45  54  63  72  81   90\n",
       " 10  20  30  40  50  60  70  80  90  100"
      ]
     },
     "execution_count": 61,
     "metadata": {
      "comm_id": "fc1988ea-9559-40fa-9f88-75da0a5509a7",
      "reactive": true
     },
     "output_type": "execute_result"
    }
   ],
   "source": [
    "@manipulate for n in 1:20\n",
    "    [i*j for i in 1:n, j in 1:n]\n",
    "end"
   ]
  },
  {
   "cell_type": "markdown",
   "metadata": {},
   "source": [
    "We use a double `for` loop to get a double slider!"
   ]
  },
  {
   "cell_type": "code",
   "execution_count": 62,
   "metadata": {},
   "outputs": [
    {
     "data": {
      "application/vnd.jupyter.widget-view+json": {
       "model_id": "03a2457c-b44b-4b4f-ae56-2abb1ab3e683",
       "version_major": 2,
       "version_minor": 0
      }
     },
     "metadata": {},
     "output_type": "display_data"
    },
    {
     "data": {
      "text/html": [],
      "text/plain": [
       "Interact.Options{:SelectionSlider,Any}(9: \"input-3\" = 6 Any , \"n\", 6, \"6\", 4, Interact.OptionDict(DataStructures.OrderedDict{Any,Any}(\"3\"=>3,\"4\"=>4,\"5\"=>5,\"6\"=>6,\"7\"=>7,\"8\"=>8,\"9\"=>9,\"10\"=>10), Dict{Any,Any}(Pair{Any,Any}(7, \"7\"),Pair{Any,Any}(4, \"4\"),Pair{Any,Any}(9, \"9\"),Pair{Any,Any}(10, \"10\"),Pair{Any,Any}(3, \"3\"),Pair{Any,Any}(5, \"5\"),Pair{Any,Any}(8, \"8\"),Pair{Any,Any}(6, \"6\"))), Any[], Any[], true, \"horizontal\")"
      ]
     },
     "metadata": {},
     "output_type": "display_data"
    },
    {
     "data": {
      "application/vnd.jupyter.widget-view+json": {
       "model_id": "d8db88ee-53ff-49d9-a077-8d9b990e820b",
       "version_major": 2,
       "version_minor": 0
      }
     },
     "metadata": {},
     "output_type": "display_data"
    },
    {
     "data": {
      "text/html": [],
      "text/plain": [
       "Interact.Options{:SelectionSlider,Any}(11: \"input-4\" = 5 Any , \"i\", 5, \"5\", 5, Interact.OptionDict(DataStructures.OrderedDict{Any,Any}(\"1\"=>1,\"2\"=>2,\"3\"=>3,\"4\"=>4,\"5\"=>5,\"6\"=>6,\"7\"=>7,\"8\"=>8,\"9\"=>9), Dict{Any,Any}(Pair{Any,Any}(7, \"7\"),Pair{Any,Any}(4, \"4\"),Pair{Any,Any}(9, \"9\"),Pair{Any,Any}(2, \"2\"),Pair{Any,Any}(3, \"3\"),Pair{Any,Any}(5, \"5\"),Pair{Any,Any}(8, \"8\"),Pair{Any,Any}(6, \"6\"),Pair{Any,Any}(1, \"1\"))), Any[], Any[], true, \"horizontal\")"
      ]
     },
     "metadata": {},
     "output_type": "display_data"
    },
    {
     "data": {
      "text/plain": [
       "6×6 Array{Int64,2}:\n",
       " 5  5  5  0  0  0\n",
       " 5  5  5  0  0  0\n",
       " 5  5  5  0  0  0\n",
       " 0  0  0  0  0  0\n",
       " 0  0  0  0  0  0\n",
       " 0  0  0  0  0  0"
      ]
     },
     "execution_count": 62,
     "metadata": {
      "comm_id": "a64b3d01-47f2-4ccf-98fa-70427f52619c",
      "reactive": true
     },
     "output_type": "execute_result"
    }
   ],
   "source": [
    "@manipulate for n in 3:10, i in 1:9\n",
    "   A = fill(0, n, n)\n",
    "   A[1:3, 1:3] = i    # fill a sub-block\n",
    "A\n",
    "end"
   ]
  },
  {
   "cell_type": "markdown",
   "metadata": {},
   "source": [
    "# Functions"
   ]
  },
  {
   "cell_type": "markdown",
   "metadata": {},
   "source": [
    "Julia is built around functions: all \"commands\" or \"operations\" in Julia are functions:"
   ]
  },
  {
   "cell_type": "code",
   "execution_count": 63,
   "metadata": {},
   "outputs": [],
   "source": [
    "# verbose form:\n",
    "function f(x)\n",
    "    x^2\n",
    "end\n",
    "\n",
    "# one-line form:\n",
    "f2(x) = x^2\n",
    "\n",
    "# anonymous form:\n",
    "f3 =  x -> x^2;"
   ]
  },
  {
   "cell_type": "code",
   "execution_count": 64,
   "metadata": {},
   "outputs": [
    {
     "data": {
      "text/plain": [
       "100"
      ]
     },
     "execution_count": 64,
     "metadata": {},
     "output_type": "execute_result"
    }
   ],
   "source": [
    "f(10)"
   ]
  },
  {
   "cell_type": "markdown",
   "metadata": {},
   "source": [
    "Functions just work, as long as they make sense:"
   ]
  },
  {
   "cell_type": "code",
   "execution_count": 65,
   "metadata": {},
   "outputs": [
    {
     "data": {
      "text/plain": [
       "3×3 Array{Float64,2}:\n",
       " 0.611222  0.864742  0.799587\n",
       " 0.290661  0.374159  0.342991\n",
       " 0.546469  1.02709   0.817094"
      ]
     },
     "execution_count": 65,
     "metadata": {},
     "output_type": "execute_result"
    }
   ],
   "source": [
    "# The square of a matrix is unambiguously defined\n",
    "f(rand(3, 3))"
   ]
  },
  {
   "cell_type": "code",
   "execution_count": 66,
   "metadata": {},
   "outputs": [
    {
     "ename": "LoadError",
     "evalue": "\u001b[91mDimensionMismatch(\"Cannot multiply two vectors\")\u001b[39m",
     "output_type": "error",
     "traceback": [
      "\u001b[91mDimensionMismatch(\"Cannot multiply two vectors\")\u001b[39m",
      "",
      "Stacktrace:",
      " [1] \u001b[1mpower_by_squaring\u001b[22m\u001b[22m\u001b[1m(\u001b[22m\u001b[22m::Array{Float64,1}, ::Int64\u001b[1m)\u001b[22m\u001b[22m at \u001b[1m./intfuncs.jl:166\u001b[22m\u001b[22m",
      " [2] \u001b[1mf\u001b[22m\u001b[22m\u001b[1m(\u001b[22m\u001b[22m::Array{Float64,1}\u001b[1m)\u001b[22m\u001b[22m at \u001b[1m./In[63]:3\u001b[22m\u001b[22m",
      " [3] \u001b[1minclude_string\u001b[22m\u001b[22m\u001b[1m(\u001b[22m\u001b[22m::String, ::String\u001b[1m)\u001b[22m\u001b[22m at \u001b[1m./loading.jl:515\u001b[22m\u001b[22m"
     ]
    }
   ],
   "source": [
    "# What the 'square of a vector' means is ambiguous\n",
    "f(rand(3))"
   ]
  },
  {
   "cell_type": "code",
   "execution_count": 67,
   "metadata": {},
   "outputs": [
    {
     "data": {
      "text/plain": [
       "f (generic function with 3 methods)"
      ]
     },
     "execution_count": 67,
     "metadata": {},
     "output_type": "execute_result"
    }
   ],
   "source": [
    "# In the definition below, `a` and `power` are optional arguments to `f`, supplied with default values.\n",
    "function f(x, a=1, power=2)\n",
    "    a*x^power\n",
    "end"
   ]
  },
  {
   "cell_type": "code",
   "execution_count": 68,
   "metadata": {},
   "outputs": [
    {
     "data": {
      "text/plain": [
       "49"
      ]
     },
     "execution_count": 68,
     "metadata": {},
     "output_type": "execute_result"
    }
   ],
   "source": [
    "# `a` defaults to 1 and `power` to 2\n",
    "f(7)"
   ]
  },
  {
   "cell_type": "code",
   "execution_count": 69,
   "metadata": {},
   "outputs": [
    {
     "data": {
      "text/plain": [
       "300"
      ]
     },
     "execution_count": 69,
     "metadata": {},
     "output_type": "execute_result"
    }
   ],
   "source": [
    "# The first optional argument passed is assigned to the local variable `a`\n",
    "# `power` defaults to 2\n",
    "f(10, 3)"
   ]
  },
  {
   "cell_type": "code",
   "execution_count": 70,
   "metadata": {},
   "outputs": [
    {
     "data": {
      "text/plain": [
       "3000"
      ]
     },
     "execution_count": 70,
     "metadata": {},
     "output_type": "execute_result"
    }
   ],
   "source": [
    "f(10, 3, 3)"
   ]
  },
  {
   "cell_type": "markdown",
   "metadata": {},
   "source": [
    "Let's define a function to insert a block in a matrix:"
   ]
  },
  {
   "cell_type": "code",
   "execution_count": 71,
   "metadata": {},
   "outputs": [
    {
     "data": {
      "text/plain": [
       "insert_block (generic function with 2 methods)"
      ]
     },
     "execution_count": 71,
     "metadata": {},
     "output_type": "execute_result"
    }
   ],
   "source": [
    "function insert_block(A, i, j, what=7)\n",
    "    B = A[:,:]        # B is a copy of A       \n",
    "    B[i:i+2, j:j+2] = fill(what, 3, 3)\n",
    "    \n",
    "    return B          # the `return` keyword is optional\n",
    "end"
   ]
  },
  {
   "cell_type": "code",
   "execution_count": 72,
   "metadata": {},
   "outputs": [
    {
     "data": {
      "text/plain": [
       "9×9 Array{Int64,2}:\n",
       " 0  0  0  0  0  0  0  0  0\n",
       " 0  0  0  0  0  0  0  0  0\n",
       " 0  0  0  0  7  7  7  0  0\n",
       " 0  0  0  0  7  7  7  0  0\n",
       " 0  0  0  0  7  7  7  0  0\n",
       " 0  0  0  0  0  0  0  0  0\n",
       " 0  0  0  0  0  0  0  0  0\n",
       " 0  0  0  0  0  0  0  0  0\n",
       " 0  0  0  0  0  0  0  0  0"
      ]
     },
     "execution_count": 72,
     "metadata": {},
     "output_type": "execute_result"
    }
   ],
   "source": [
    "A = fill(0, 9, 9)\n",
    "insert_block(A, 3, 5)  # this returns the new matrix"
   ]
  },
  {
   "cell_type": "code",
   "execution_count": 73,
   "metadata": {},
   "outputs": [
    {
     "data": {
      "text/plain": [
       "9×9 Array{Int64,2}:\n",
       " 0  0  0  0  0  0  0  0  0\n",
       " 0  0  0  0  0  0  0  0  0\n",
       " 0  0  0  0  2  2  2  0  0\n",
       " 0  0  0  0  2  2  2  0  0\n",
       " 0  0  0  0  2  2  2  0  0\n",
       " 0  0  0  0  0  0  0  0  0\n",
       " 0  0  0  0  0  0  0  0  0\n",
       " 0  0  0  0  0  0  0  0  0\n",
       " 0  0  0  0  0  0  0  0  0"
      ]
     },
     "execution_count": 73,
     "metadata": {},
     "output_type": "execute_result"
    }
   ],
   "source": [
    "A = fill(0, 9, 9)\n",
    "insert_block(A, 3, 5, 2)  # Use 2 instead of 7"
   ]
  },
  {
   "cell_type": "markdown",
   "metadata": {},
   "source": [
    "We can move the block around:"
   ]
  },
  {
   "cell_type": "code",
   "execution_count": 74,
   "metadata": {},
   "outputs": [
    {
     "data": {
      "application/vnd.jupyter.widget-view+json": {
       "model_id": "633d02ca-c782-4ccc-afdc-f92bef4bae71",
       "version_major": 2,
       "version_minor": 0
      }
     },
     "metadata": {},
     "output_type": "display_data"
    },
    {
     "data": {
      "text/html": [],
      "text/plain": [
       "Interact.Options{:SelectionSlider,Any}(15: \"input-5\" = 4 Any , \"i\", 4, \"4\", 4, Interact.OptionDict(DataStructures.OrderedDict{Any,Any}(\"1\"=>1,\"2\"=>2,\"3\"=>3,\"4\"=>4,\"5\"=>5,\"6\"=>6,\"7\"=>7,\"8\"=>8), Dict{Any,Any}(Pair{Any,Any}(7, \"7\"),Pair{Any,Any}(4, \"4\"),Pair{Any,Any}(2, \"2\"),Pair{Any,Any}(3, \"3\"),Pair{Any,Any}(5, \"5\"),Pair{Any,Any}(8, \"8\"),Pair{Any,Any}(6, \"6\"),Pair{Any,Any}(1, \"1\"))), Any[], Any[], true, \"horizontal\")"
      ]
     },
     "metadata": {},
     "output_type": "display_data"
    },
    {
     "data": {
      "application/vnd.jupyter.widget-view+json": {
       "model_id": "da22ec45-2752-493c-9d4b-d316e093c888",
       "version_major": 2,
       "version_minor": 0
      }
     },
     "metadata": {},
     "output_type": "display_data"
    },
    {
     "data": {
      "text/html": [],
      "text/plain": [
       "Interact.Options{:SelectionSlider,Any}(17: \"input-6\" = 4 Any , \"j\", 4, \"4\", 4, Interact.OptionDict(DataStructures.OrderedDict{Any,Any}(\"1\"=>1,\"2\"=>2,\"3\"=>3,\"4\"=>4,\"5\"=>5,\"6\"=>6,\"7\"=>7,\"8\"=>8), Dict{Any,Any}(Pair{Any,Any}(7, \"7\"),Pair{Any,Any}(4, \"4\"),Pair{Any,Any}(2, \"2\"),Pair{Any,Any}(3, \"3\"),Pair{Any,Any}(5, \"5\"),Pair{Any,Any}(8, \"8\"),Pair{Any,Any}(6, \"6\"),Pair{Any,Any}(1, \"1\"))), Any[], Any[], true, \"horizontal\")"
      ]
     },
     "metadata": {},
     "output_type": "display_data"
    },
    {
     "data": {
      "text/plain": [
       "10×10 Array{Int64,2}:\n",
       " 0  0  0  0  0  0  0  0  0  0\n",
       " 0  0  0  0  0  0  0  0  0  0\n",
       " 0  0  0  0  0  0  0  0  0  0\n",
       " 0  0  0  7  7  7  0  0  0  0\n",
       " 0  0  0  7  7  7  0  0  0  0\n",
       " 0  0  0  7  7  7  0  0  0  0\n",
       " 0  0  0  0  0  0  0  0  0  0\n",
       " 0  0  0  0  0  0  0  0  0  0\n",
       " 0  0  0  0  0  0  0  0  0  0\n",
       " 0  0  0  0  0  0  0  0  0  0"
      ]
     },
     "execution_count": 74,
     "metadata": {
      "comm_id": "8894b0a8-21ef-441b-8c36-5700c74d28fd",
      "reactive": true
     },
     "output_type": "execute_result"
    }
   ],
   "source": [
    "A = fill(0, 10, 10)\n",
    "n = size(A, 1)\n",
    "\n",
    "@manipulate for i in 1:n-2, j in 1:n-2\n",
    "    insert_block(A, i, j)\n",
    "end"
   ]
  },
  {
   "cell_type": "markdown",
   "metadata": {},
   "source": [
    "# Strings"
   ]
  },
  {
   "cell_type": "markdown",
   "metadata": {},
   "source": [
    "Julia can manipulate strings easily:"
   ]
  },
  {
   "cell_type": "code",
   "execution_count": 80,
   "metadata": {},
   "outputs": [
    {
     "name": "stdout",
     "output_type": "stream",
     "text": [
      "Hello\n"
     ]
    },
    {
     "data": {
      "text/plain": [
       "47"
      ]
     },
     "execution_count": 80,
     "metadata": {},
     "output_type": "execute_result"
    }
   ],
   "source": [
    "S = \"Hello\"\n",
    "println(S)\n",
    "T = 47"
   ]
  },
  {
   "cell_type": "code",
   "execution_count": 82,
   "metadata": {},
   "outputs": [
    {
     "data": {
      "text/plain": [
       "String"
      ]
     },
     "execution_count": 82,
     "metadata": {},
     "output_type": "execute_result"
    }
   ],
   "source": [
    "a = \"I am a string\"\n",
    "typeof(a)"
   ]
  },
  {
   "cell_type": "code",
   "execution_count": 87,
   "metadata": {},
   "outputs": [
    {
     "data": {
      "text/plain": [
       "\"♡♡♡\""
      ]
     },
     "execution_count": 87,
     "metadata": {},
     "output_type": "execute_result"
    }
   ],
   "source": [
    "b = '♡'\n",
    "typeof(b)\n",
    "c = [ b, b, b]\n",
    "String(c)"
   ]
  },
  {
   "cell_type": "code",
   "execution_count": 88,
   "metadata": {},
   "outputs": [
    {
     "data": {
      "text/plain": [
       "\"Jello\""
      ]
     },
     "execution_count": 88,
     "metadata": {},
     "output_type": "execute_result"
    }
   ],
   "source": [
    "replace(S, \"H\", \"J\")"
   ]
  },
  {
   "cell_type": "code",
   "execution_count": 89,
   "metadata": {},
   "outputs": [
    {
     "data": {
      "text/plain": [
       "3"
      ]
     },
     "execution_count": 89,
     "metadata": {},
     "output_type": "execute_result"
    }
   ],
   "source": [
    "a = 3"
   ]
  },
  {
   "cell_type": "code",
   "execution_count": 90,
   "metadata": {},
   "outputs": [
    {
     "data": {
      "text/plain": [
       "\"Hello Hello Julia; a = 3\""
      ]
     },
     "execution_count": 90,
     "metadata": {},
     "output_type": "execute_result"
    }
   ],
   "source": [
    "string(S, \" \", S, \" \", \"Julia; a = \", a)  # build a string by concatenating things"
   ]
  },
  {
   "cell_type": "code",
   "execution_count": 98,
   "metadata": {},
   "outputs": [
    {
     "data": {
      "text/plain": [
       "\"abc 123 4\""
      ]
     },
     "execution_count": 98,
     "metadata": {},
     "output_type": "execute_result"
    }
   ],
   "source": [
    "c = '4'\n",
    "string( \"abc\", ' ',\"123\",\" \", \"$c\")"
   ]
  },
  {
   "cell_type": "markdown",
   "metadata": {},
   "source": [
    "More about strings: <a href=\"http://docs.julialang.org/en/stable/manual/strings/\"> Julia Doc on Strings </a>"
   ]
  },
  {
   "cell_type": "markdown",
   "metadata": {},
   "source": [
    "Functions in Julia try to be **generic**, i.e. to work with as many kinds of object as possible:"
   ]
  },
  {
   "cell_type": "code",
   "execution_count": 99,
   "metadata": {},
   "outputs": [
    {
     "data": {
      "text/plain": [
       "5×5 Array{String,2}:\n",
       " \"Julia\"  \"Julia\"  \"Julia\"  \"Julia\"  \"Julia\"\n",
       " \"Julia\"  \"Julia\"  \"Julia\"  \"Julia\"  \"Julia\"\n",
       " \"Julia\"  \"Julia\"  \"Julia\"  \"Julia\"  \"Julia\"\n",
       " \"Julia\"  \"Julia\"  \"Julia\"  \"Julia\"  \"Julia\"\n",
       " \"Julia\"  \"Julia\"  \"Julia\"  \"Julia\"  \"Julia\""
      ]
     },
     "execution_count": 99,
     "metadata": {},
     "output_type": "execute_result"
    }
   ],
   "source": [
    "A = fill(\"Julia\", 5, 5)"
   ]
  },
  {
   "cell_type": "markdown",
   "metadata": {},
   "source": [
    "Julia allows us to display objects in different ways. For example, the following code displays a matrix of strings\n",
    "in the notebook using an HTML representation:"
   ]
  },
  {
   "cell_type": "code",
   "execution_count": 100,
   "metadata": {},
   "outputs": [],
   "source": [
    "function Base.show{T<:String}(io::IO, ::MIME\"text/html\", M::Matrix{T}) \n",
    "    max_length = maximum(length.(M))\n",
    "    dv=\"<div style='display:flex;flex-direction:row'>\"\n",
    "    print(io, dv*join([join(\"<div style='width:40px; text-align:center'>\".*M[i,:].*\"</div>\", \" \") for i in 1:size(M, 1)]\n",
    "            , \"</div>$dv\")*\"</div>\")\n",
    "end"
   ]
  },
  {
   "cell_type": "code",
   "execution_count": null,
   "metadata": {},
   "outputs": [],
   "source": [
    "A"
   ]
  },
  {
   "cell_type": "code",
   "execution_count": 101,
   "metadata": {},
   "outputs": [
    {
     "data": {
      "application/vnd.jupyter.widget-view+json": {
       "model_id": "6e852dce-c306-41af-949f-590604a202c8",
       "version_major": 2,
       "version_minor": 0
      }
     },
     "metadata": {},
     "output_type": "display_data"
    },
    {
     "data": {
      "text/html": [],
      "text/plain": [
       "Interact.Options{:SelectionSlider,Any}(21: \"input-7\" = 4 Any , \"i\", 4, \"4\", 4, Interact.OptionDict(DataStructures.OrderedDict{Any,Any}(\"1\"=>1,\"2\"=>2,\"3\"=>3,\"4\"=>4,\"5\"=>5,\"6\"=>6,\"7\"=>7,\"8\"=>8), Dict{Any,Any}(Pair{Any,Any}(7, \"7\"),Pair{Any,Any}(4, \"4\"),Pair{Any,Any}(2, \"2\"),Pair{Any,Any}(3, \"3\"),Pair{Any,Any}(5, \"5\"),Pair{Any,Any}(8, \"8\"),Pair{Any,Any}(6, \"6\"),Pair{Any,Any}(1, \"1\"))), Any[], Any[], true, \"horizontal\")"
      ]
     },
     "metadata": {},
     "output_type": "display_data"
    },
    {
     "data": {
      "application/vnd.jupyter.widget-view+json": {
       "model_id": "87a58b8a-5368-495f-960c-48854469b5f7",
       "version_major": 2,
       "version_minor": 0
      }
     },
     "metadata": {},
     "output_type": "display_data"
    },
    {
     "data": {
      "text/html": [],
      "text/plain": [
       "Interact.Options{:SelectionSlider,Any}(23: \"input-8\" = 4 Any , \"j\", 4, \"4\", 4, Interact.OptionDict(DataStructures.OrderedDict{Any,Any}(\"1\"=>1,\"2\"=>2,\"3\"=>3,\"4\"=>4,\"5\"=>5,\"6\"=>6,\"7\"=>7,\"8\"=>8), Dict{Any,Any}(Pair{Any,Any}(7, \"7\"),Pair{Any,Any}(4, \"4\"),Pair{Any,Any}(2, \"2\"),Pair{Any,Any}(3, \"3\"),Pair{Any,Any}(5, \"5\"),Pair{Any,Any}(8, \"8\"),Pair{Any,Any}(6, \"6\"),Pair{Any,Any}(1, \"1\"))), Any[], Any[], true, \"horizontal\")"
      ]
     },
     "metadata": {},
     "output_type": "display_data"
    },
    {
     "data": {
      "text/plain": [
       "10×10 Array{Int64,2}:\n",
       " 0  0  0  0  0  0  0  0  0  0\n",
       " 0  0  0  0  0  0  0  0  0  0\n",
       " 0  0  0  0  0  0  0  0  0  0\n",
       " 0  0  0  7  7  7  0  0  0  0\n",
       " 0  0  0  7  7  7  0  0  0  0\n",
       " 0  0  0  7  7  7  0  0  0  0\n",
       " 0  0  0  0  0  0  0  0  0  0\n",
       " 0  0  0  0  0  0  0  0  0  0\n",
       " 0  0  0  0  0  0  0  0  0  0\n",
       " 0  0  0  0  0  0  0  0  0  0"
      ]
     },
     "execution_count": 101,
     "metadata": {
      "comm_id": "8135fbc3-10b0-4f5e-9824-c79a96fc6e93",
      "reactive": true
     },
     "output_type": "execute_result"
    }
   ],
   "source": [
    "# Remember this ????\n",
    "A = fill(0, 10, 10)\n",
    "n = size(A, 1)\n",
    "\n",
    "@manipulate for i in 1:n-2, j in 1:n-2\n",
    "    insert_block(A, i,j)\n",
    "end"
   ]
  },
  {
   "cell_type": "markdown",
   "metadata": {},
   "source": [
    "Let's use the **same code**, but now with strings:"
   ]
  },
  {
   "cell_type": "code",
   "execution_count": 102,
   "metadata": {},
   "outputs": [
    {
     "data": {
      "application/vnd.jupyter.widget-view+json": {
       "model_id": "f42ce485-524a-4bad-a17f-0b8c1b8a02a7",
       "version_major": 2,
       "version_minor": 0
      }
     },
     "metadata": {},
     "output_type": "display_data"
    },
    {
     "data": {
      "text/html": [],
      "text/plain": [
       "Interact.Options{:SelectionSlider,Any}(27: \"input-9\" = 4 Any , \"i\", 4, \"4\", 4, Interact.OptionDict(DataStructures.OrderedDict{Any,Any}(\"1\"=>1,\"2\"=>2,\"3\"=>3,\"4\"=>4,\"5\"=>5,\"6\"=>6,\"7\"=>7,\"8\"=>8), Dict{Any,Any}(Pair{Any,Any}(7, \"7\"),Pair{Any,Any}(4, \"4\"),Pair{Any,Any}(2, \"2\"),Pair{Any,Any}(3, \"3\"),Pair{Any,Any}(5, \"5\"),Pair{Any,Any}(8, \"8\"),Pair{Any,Any}(6, \"6\"),Pair{Any,Any}(1, \"1\"))), Any[], Any[], true, \"horizontal\")"
      ]
     },
     "metadata": {},
     "output_type": "display_data"
    },
    {
     "data": {
      "application/vnd.jupyter.widget-view+json": {
       "model_id": "9e6844c5-bb67-4cf3-837d-12b9614bee3a",
       "version_major": 2,
       "version_minor": 0
      }
     },
     "metadata": {},
     "output_type": "display_data"
    },
    {
     "data": {
      "text/html": [],
      "text/plain": [
       "Interact.Options{:SelectionSlider,Any}(29: \"input-10\" = 4 Any , \"j\", 4, \"4\", 4, Interact.OptionDict(DataStructures.OrderedDict{Any,Any}(\"1\"=>1,\"2\"=>2,\"3\"=>3,\"4\"=>4,\"5\"=>5,\"6\"=>6,\"7\"=>7,\"8\"=>8), Dict{Any,Any}(Pair{Any,Any}(7, \"7\"),Pair{Any,Any}(4, \"4\"),Pair{Any,Any}(2, \"2\"),Pair{Any,Any}(3, \"3\"),Pair{Any,Any}(5, \"5\"),Pair{Any,Any}(8, \"8\"),Pair{Any,Any}(6, \"6\"),Pair{Any,Any}(1, \"1\"))), Any[], Any[], true, \"horizontal\")"
      ]
     },
     "metadata": {},
     "output_type": "display_data"
    },
    {
     "data": {
      "text/html": [
       "<div style='display:flex;flex-direction:row'><div style='width:40px; text-align:center'>Julia</div> <div style='width:40px; text-align:center'>Julia</div> <div style='width:40px; text-align:center'>Julia</div> <div style='width:40px; text-align:center'>Julia</div> <div style='width:40px; text-align:center'>Julia</div> <div style='width:40px; text-align:center'>Julia</div> <div style='width:40px; text-align:center'>Julia</div> <div style='width:40px; text-align:center'>Julia</div> <div style='width:40px; text-align:center'>Julia</div> <div style='width:40px; text-align:center'>Julia</div></div><div style='display:flex;flex-direction:row'><div style='width:40px; text-align:center'>Julia</div> <div style='width:40px; text-align:center'>Julia</div> <div style='width:40px; text-align:center'>Julia</div> <div style='width:40px; text-align:center'>Julia</div> <div style='width:40px; text-align:center'>Julia</div> <div style='width:40px; text-align:center'>Julia</div> <div style='width:40px; text-align:center'>Julia</div> <div style='width:40px; text-align:center'>Julia</div> <div style='width:40px; text-align:center'>Julia</div> <div style='width:40px; text-align:center'>Julia</div></div><div style='display:flex;flex-direction:row'><div style='width:40px; text-align:center'>Julia</div> <div style='width:40px; text-align:center'>Julia</div> <div style='width:40px; text-align:center'>Julia</div> <div style='width:40px; text-align:center'>Julia</div> <div style='width:40px; text-align:center'>Julia</div> <div style='width:40px; text-align:center'>Julia</div> <div style='width:40px; text-align:center'>Julia</div> <div style='width:40px; text-align:center'>Julia</div> <div style='width:40px; text-align:center'>Julia</div> <div style='width:40px; text-align:center'>Julia</div></div><div style='display:flex;flex-direction:row'><div style='width:40px; text-align:center'>Julia</div> <div style='width:40px; text-align:center'>Julia</div> <div style='width:40px; text-align:center'>Julia</div> <div style='width:40px; text-align:center'>[FUN]</div> <div style='width:40px; text-align:center'>[FUN]</div> <div style='width:40px; text-align:center'>[FUN]</div> <div style='width:40px; text-align:center'>Julia</div> <div style='width:40px; text-align:center'>Julia</div> <div style='width:40px; text-align:center'>Julia</div> <div style='width:40px; text-align:center'>Julia</div></div><div style='display:flex;flex-direction:row'><div style='width:40px; text-align:center'>Julia</div> <div style='width:40px; text-align:center'>Julia</div> <div style='width:40px; text-align:center'>Julia</div> <div style='width:40px; text-align:center'>[FUN]</div> <div style='width:40px; text-align:center'>[FUN]</div> <div style='width:40px; text-align:center'>[FUN]</div> <div style='width:40px; text-align:center'>Julia</div> <div style='width:40px; text-align:center'>Julia</div> <div style='width:40px; text-align:center'>Julia</div> <div style='width:40px; text-align:center'>Julia</div></div><div style='display:flex;flex-direction:row'><div style='width:40px; text-align:center'>Julia</div> <div style='width:40px; text-align:center'>Julia</div> <div style='width:40px; text-align:center'>Julia</div> <div style='width:40px; text-align:center'>[FUN]</div> <div style='width:40px; text-align:center'>[FUN]</div> <div style='width:40px; text-align:center'>[FUN]</div> <div style='width:40px; text-align:center'>Julia</div> <div style='width:40px; text-align:center'>Julia</div> <div style='width:40px; text-align:center'>Julia</div> <div style='width:40px; text-align:center'>Julia</div></div><div style='display:flex;flex-direction:row'><div style='width:40px; text-align:center'>Julia</div> <div style='width:40px; text-align:center'>Julia</div> <div style='width:40px; text-align:center'>Julia</div> <div style='width:40px; text-align:center'>Julia</div> <div style='width:40px; text-align:center'>Julia</div> <div style='width:40px; text-align:center'>Julia</div> <div style='width:40px; text-align:center'>Julia</div> <div style='width:40px; text-align:center'>Julia</div> <div style='width:40px; text-align:center'>Julia</div> <div style='width:40px; text-align:center'>Julia</div></div><div style='display:flex;flex-direction:row'><div style='width:40px; text-align:center'>Julia</div> <div style='width:40px; text-align:center'>Julia</div> <div style='width:40px; text-align:center'>Julia</div> <div style='width:40px; text-align:center'>Julia</div> <div style='width:40px; text-align:center'>Julia</div> <div style='width:40px; text-align:center'>Julia</div> <div style='width:40px; text-align:center'>Julia</div> <div style='width:40px; text-align:center'>Julia</div> <div style='width:40px; text-align:center'>Julia</div> <div style='width:40px; text-align:center'>Julia</div></div><div style='display:flex;flex-direction:row'><div style='width:40px; text-align:center'>Julia</div> <div style='width:40px; text-align:center'>Julia</div> <div style='width:40px; text-align:center'>Julia</div> <div style='width:40px; text-align:center'>Julia</div> <div style='width:40px; text-align:center'>Julia</div> <div style='width:40px; text-align:center'>Julia</div> <div style='width:40px; text-align:center'>Julia</div> <div style='width:40px; text-align:center'>Julia</div> <div style='width:40px; text-align:center'>Julia</div> <div style='width:40px; text-align:center'>Julia</div></div><div style='display:flex;flex-direction:row'><div style='width:40px; text-align:center'>Julia</div> <div style='width:40px; text-align:center'>Julia</div> <div style='width:40px; text-align:center'>Julia</div> <div style='width:40px; text-align:center'>Julia</div> <div style='width:40px; text-align:center'>Julia</div> <div style='width:40px; text-align:center'>Julia</div> <div style='width:40px; text-align:center'>Julia</div> <div style='width:40px; text-align:center'>Julia</div> <div style='width:40px; text-align:center'>Julia</div> <div style='width:40px; text-align:center'>Julia</div></div>"
      ],
      "text/plain": [
       "10×10 Array{String,2}:\n",
       " \"Julia\"  \"Julia\"  \"Julia\"  \"Julia\"  …  \"Julia\"  \"Julia\"  \"Julia\"  \"Julia\"\n",
       " \"Julia\"  \"Julia\"  \"Julia\"  \"Julia\"     \"Julia\"  \"Julia\"  \"Julia\"  \"Julia\"\n",
       " \"Julia\"  \"Julia\"  \"Julia\"  \"Julia\"     \"Julia\"  \"Julia\"  \"Julia\"  \"Julia\"\n",
       " \"Julia\"  \"Julia\"  \"Julia\"  \"[FUN]\"     \"Julia\"  \"Julia\"  \"Julia\"  \"Julia\"\n",
       " \"Julia\"  \"Julia\"  \"Julia\"  \"[FUN]\"     \"Julia\"  \"Julia\"  \"Julia\"  \"Julia\"\n",
       " \"Julia\"  \"Julia\"  \"Julia\"  \"[FUN]\"  …  \"Julia\"  \"Julia\"  \"Julia\"  \"Julia\"\n",
       " \"Julia\"  \"Julia\"  \"Julia\"  \"Julia\"     \"Julia\"  \"Julia\"  \"Julia\"  \"Julia\"\n",
       " \"Julia\"  \"Julia\"  \"Julia\"  \"Julia\"     \"Julia\"  \"Julia\"  \"Julia\"  \"Julia\"\n",
       " \"Julia\"  \"Julia\"  \"Julia\"  \"Julia\"     \"Julia\"  \"Julia\"  \"Julia\"  \"Julia\"\n",
       " \"Julia\"  \"Julia\"  \"Julia\"  \"Julia\"     \"Julia\"  \"Julia\"  \"Julia\"  \"Julia\""
      ]
     },
     "execution_count": 102,
     "metadata": {
      "comm_id": "dd30a264-f93c-4c63-b057-e727ade10705",
      "reactive": true
     },
     "output_type": "execute_result"
    }
   ],
   "source": [
    "A = fill(\"Julia\", 10, 10)\n",
    "n = size(A, 1)\n",
    "\n",
    "@manipulate for i in 1:n-2, j in 1:n-2\n",
    "    insert_block(A, i,j, \"[FUN]\")\n",
    "end"
   ]
  },
  {
   "cell_type": "code",
   "execution_count": 103,
   "metadata": {},
   "outputs": [
    {
     "data": {
      "application/vnd.jupyter.widget-view+json": {
       "model_id": "319ab95a-172f-4f81-b45c-19f07ad7f872",
       "version_major": 2,
       "version_minor": 0
      }
     },
     "metadata": {},
     "output_type": "display_data"
    },
    {
     "data": {
      "text/html": [],
      "text/plain": [
       "Interact.Options{:SelectionSlider,Any}(33: \"input-11\" = 4 Any , \"i\", 4, \"4\", 4, Interact.OptionDict(DataStructures.OrderedDict{Any,Any}(\"1\"=>1,\"2\"=>2,\"3\"=>3,\"4\"=>4,\"5\"=>5,\"6\"=>6,\"7\"=>7,\"8\"=>8), Dict{Any,Any}(Pair{Any,Any}(7, \"7\"),Pair{Any,Any}(4, \"4\"),Pair{Any,Any}(2, \"2\"),Pair{Any,Any}(3, \"3\"),Pair{Any,Any}(5, \"5\"),Pair{Any,Any}(8, \"8\"),Pair{Any,Any}(6, \"6\"),Pair{Any,Any}(1, \"1\"))), Any[], Any[], true, \"horizontal\")"
      ]
     },
     "metadata": {},
     "output_type": "display_data"
    },
    {
     "data": {
      "application/vnd.jupyter.widget-view+json": {
       "model_id": "e7153050-dde0-49af-8b22-f1f2d2c7b883",
       "version_major": 2,
       "version_minor": 0
      }
     },
     "metadata": {},
     "output_type": "display_data"
    },
    {
     "data": {
      "text/html": [],
      "text/plain": [
       "Interact.Options{:SelectionSlider,Any}(35: \"input-12\" = 4 Any , \"j\", 4, \"4\", 4, Interact.OptionDict(DataStructures.OrderedDict{Any,Any}(\"1\"=>1,\"2\"=>2,\"3\"=>3,\"4\"=>4,\"5\"=>5,\"6\"=>6,\"7\"=>7,\"8\"=>8), Dict{Any,Any}(Pair{Any,Any}(7, \"7\"),Pair{Any,Any}(4, \"4\"),Pair{Any,Any}(2, \"2\"),Pair{Any,Any}(3, \"3\"),Pair{Any,Any}(5, \"5\"),Pair{Any,Any}(8, \"8\"),Pair{Any,Any}(6, \"6\"),Pair{Any,Any}(1, \"1\"))), Any[], Any[], true, \"horizontal\")"
      ]
     },
     "metadata": {},
     "output_type": "display_data"
    },
    {
     "data": {
      "text/html": [
       "<div style='display:flex;flex-direction:row'><div style='width:40px; text-align:center'>Julia</div> <div style='width:40px; text-align:center'>Julia</div> <div style='width:40px; text-align:center'>Julia</div> <div style='width:40px; text-align:center'>Julia</div> <div style='width:40px; text-align:center'>Julia</div> <div style='width:40px; text-align:center'>Julia</div> <div style='width:40px; text-align:center'>Julia</div> <div style='width:40px; text-align:center'>Julia</div> <div style='width:40px; text-align:center'>Julia</div> <div style='width:40px; text-align:center'>Julia</div></div><div style='display:flex;flex-direction:row'><div style='width:40px; text-align:center'>Julia</div> <div style='width:40px; text-align:center'>Julia</div> <div style='width:40px; text-align:center'>Julia</div> <div style='width:40px; text-align:center'>Julia</div> <div style='width:40px; text-align:center'>Julia</div> <div style='width:40px; text-align:center'>Julia</div> <div style='width:40px; text-align:center'>Julia</div> <div style='width:40px; text-align:center'>Julia</div> <div style='width:40px; text-align:center'>Julia</div> <div style='width:40px; text-align:center'>Julia</div></div><div style='display:flex;flex-direction:row'><div style='width:40px; text-align:center'>Julia</div> <div style='width:40px; text-align:center'>Julia</div> <div style='width:40px; text-align:center'>Julia</div> <div style='width:40px; text-align:center'>Julia</div> <div style='width:40px; text-align:center'>Julia</div> <div style='width:40px; text-align:center'>Julia</div> <div style='width:40px; text-align:center'>Julia</div> <div style='width:40px; text-align:center'>Julia</div> <div style='width:40px; text-align:center'>Julia</div> <div style='width:40px; text-align:center'>Julia</div></div><div style='display:flex;flex-direction:row'><div style='width:40px; text-align:center'>Julia</div> <div style='width:40px; text-align:center'>Julia</div> <div style='width:40px; text-align:center'>Julia</div> <div style='width:40px; text-align:center'>π</div> <div style='width:40px; text-align:center'>π</div> <div style='width:40px; text-align:center'>π</div> <div style='width:40px; text-align:center'>Julia</div> <div style='width:40px; text-align:center'>Julia</div> <div style='width:40px; text-align:center'>Julia</div> <div style='width:40px; text-align:center'>Julia</div></div><div style='display:flex;flex-direction:row'><div style='width:40px; text-align:center'>Julia</div> <div style='width:40px; text-align:center'>Julia</div> <div style='width:40px; text-align:center'>Julia</div> <div style='width:40px; text-align:center'>π</div> <div style='width:40px; text-align:center'>π</div> <div style='width:40px; text-align:center'>π</div> <div style='width:40px; text-align:center'>Julia</div> <div style='width:40px; text-align:center'>Julia</div> <div style='width:40px; text-align:center'>Julia</div> <div style='width:40px; text-align:center'>Julia</div></div><div style='display:flex;flex-direction:row'><div style='width:40px; text-align:center'>Julia</div> <div style='width:40px; text-align:center'>Julia</div> <div style='width:40px; text-align:center'>Julia</div> <div style='width:40px; text-align:center'>π</div> <div style='width:40px; text-align:center'>π</div> <div style='width:40px; text-align:center'>π</div> <div style='width:40px; text-align:center'>Julia</div> <div style='width:40px; text-align:center'>Julia</div> <div style='width:40px; text-align:center'>Julia</div> <div style='width:40px; text-align:center'>Julia</div></div><div style='display:flex;flex-direction:row'><div style='width:40px; text-align:center'>Julia</div> <div style='width:40px; text-align:center'>Julia</div> <div style='width:40px; text-align:center'>Julia</div> <div style='width:40px; text-align:center'>Julia</div> <div style='width:40px; text-align:center'>Julia</div> <div style='width:40px; text-align:center'>Julia</div> <div style='width:40px; text-align:center'>Julia</div> <div style='width:40px; text-align:center'>Julia</div> <div style='width:40px; text-align:center'>Julia</div> <div style='width:40px; text-align:center'>Julia</div></div><div style='display:flex;flex-direction:row'><div style='width:40px; text-align:center'>Julia</div> <div style='width:40px; text-align:center'>Julia</div> <div style='width:40px; text-align:center'>Julia</div> <div style='width:40px; text-align:center'>Julia</div> <div style='width:40px; text-align:center'>Julia</div> <div style='width:40px; text-align:center'>Julia</div> <div style='width:40px; text-align:center'>Julia</div> <div style='width:40px; text-align:center'>Julia</div> <div style='width:40px; text-align:center'>Julia</div> <div style='width:40px; text-align:center'>Julia</div></div><div style='display:flex;flex-direction:row'><div style='width:40px; text-align:center'>Julia</div> <div style='width:40px; text-align:center'>Julia</div> <div style='width:40px; text-align:center'>Julia</div> <div style='width:40px; text-align:center'>Julia</div> <div style='width:40px; text-align:center'>Julia</div> <div style='width:40px; text-align:center'>Julia</div> <div style='width:40px; text-align:center'>Julia</div> <div style='width:40px; text-align:center'>Julia</div> <div style='width:40px; text-align:center'>Julia</div> <div style='width:40px; text-align:center'>Julia</div></div><div style='display:flex;flex-direction:row'><div style='width:40px; text-align:center'>Julia</div> <div style='width:40px; text-align:center'>Julia</div> <div style='width:40px; text-align:center'>Julia</div> <div style='width:40px; text-align:center'>Julia</div> <div style='width:40px; text-align:center'>Julia</div> <div style='width:40px; text-align:center'>Julia</div> <div style='width:40px; text-align:center'>Julia</div> <div style='width:40px; text-align:center'>Julia</div> <div style='width:40px; text-align:center'>Julia</div> <div style='width:40px; text-align:center'>Julia</div></div>"
      ],
      "text/plain": [
       "10×10 Array{String,2}:\n",
       " \"Julia\"  \"Julia\"  \"Julia\"  \"Julia\"  …  \"Julia\"  \"Julia\"  \"Julia\"  \"Julia\"\n",
       " \"Julia\"  \"Julia\"  \"Julia\"  \"Julia\"     \"Julia\"  \"Julia\"  \"Julia\"  \"Julia\"\n",
       " \"Julia\"  \"Julia\"  \"Julia\"  \"Julia\"     \"Julia\"  \"Julia\"  \"Julia\"  \"Julia\"\n",
       " \"Julia\"  \"Julia\"  \"Julia\"  \"π\"         \"Julia\"  \"Julia\"  \"Julia\"  \"Julia\"\n",
       " \"Julia\"  \"Julia\"  \"Julia\"  \"π\"         \"Julia\"  \"Julia\"  \"Julia\"  \"Julia\"\n",
       " \"Julia\"  \"Julia\"  \"Julia\"  \"π\"      …  \"Julia\"  \"Julia\"  \"Julia\"  \"Julia\"\n",
       " \"Julia\"  \"Julia\"  \"Julia\"  \"Julia\"     \"Julia\"  \"Julia\"  \"Julia\"  \"Julia\"\n",
       " \"Julia\"  \"Julia\"  \"Julia\"  \"Julia\"     \"Julia\"  \"Julia\"  \"Julia\"  \"Julia\"\n",
       " \"Julia\"  \"Julia\"  \"Julia\"  \"Julia\"     \"Julia\"  \"Julia\"  \"Julia\"  \"Julia\"\n",
       " \"Julia\"  \"Julia\"  \"Julia\"  \"Julia\"     \"Julia\"  \"Julia\"  \"Julia\"  \"Julia\""
      ]
     },
     "execution_count": 103,
     "metadata": {
      "comm_id": "8035617a-dfc8-49b4-91f3-928cf0fd2aac",
      "reactive": true
     },
     "output_type": "execute_result"
    }
   ],
   "source": [
    "@manipulate for i in 1:n-2, j in 1:n-2\n",
    "    insert_block(A, i, j, \"π\")\n",
    "end"
   ]
  },
  {
   "cell_type": "code",
   "execution_count": 104,
   "metadata": {},
   "outputs": [
    {
     "data": {
      "application/vnd.jupyter.widget-view+json": {
       "model_id": "c47cad6a-0232-471e-bbeb-8ccb31a6bf24",
       "version_major": 2,
       "version_minor": 0
      }
     },
     "metadata": {},
     "output_type": "display_data"
    },
    {
     "data": {
      "text/html": [],
      "text/plain": [
       "Interact.Options{:SelectionSlider,Any}(39: \"input-13\" = 4 Any , \"i\", 4, \"4\", 4, Interact.OptionDict(DataStructures.OrderedDict{Any,Any}(\"1\"=>1,\"2\"=>2,\"3\"=>3,\"4\"=>4,\"5\"=>5,\"6\"=>6,\"7\"=>7,\"8\"=>8), Dict{Any,Any}(Pair{Any,Any}(7, \"7\"),Pair{Any,Any}(4, \"4\"),Pair{Any,Any}(2, \"2\"),Pair{Any,Any}(3, \"3\"),Pair{Any,Any}(5, \"5\"),Pair{Any,Any}(8, \"8\"),Pair{Any,Any}(6, \"6\"),Pair{Any,Any}(1, \"1\"))), Any[], Any[], true, \"horizontal\")"
      ]
     },
     "metadata": {},
     "output_type": "display_data"
    },
    {
     "data": {
      "application/vnd.jupyter.widget-view+json": {
       "model_id": "577bbe3d-370e-4b8b-ac69-41536a978cbc",
       "version_major": 2,
       "version_minor": 0
      }
     },
     "metadata": {},
     "output_type": "display_data"
    },
    {
     "data": {
      "text/html": [],
      "text/plain": [
       "Interact.Options{:SelectionSlider,Any}(41: \"input-14\" = 4 Any , \"j\", 4, \"4\", 4, Interact.OptionDict(DataStructures.OrderedDict{Any,Any}(\"1\"=>1,\"2\"=>2,\"3\"=>3,\"4\"=>4,\"5\"=>5,\"6\"=>6,\"7\"=>7,\"8\"=>8), Dict{Any,Any}(Pair{Any,Any}(7, \"7\"),Pair{Any,Any}(4, \"4\"),Pair{Any,Any}(2, \"2\"),Pair{Any,Any}(3, \"3\"),Pair{Any,Any}(5, \"5\"),Pair{Any,Any}(8, \"8\"),Pair{Any,Any}(6, \"6\"),Pair{Any,Any}(1, \"1\"))), Any[], Any[], true, \"horizontal\")"
      ]
     },
     "metadata": {},
     "output_type": "display_data"
    },
    {
     "data": {
      "text/html": [
       "<div style='display:flex;flex-direction:row'><div style='width:40px; text-align:center'>Julia</div> <div style='width:40px; text-align:center'>Julia</div> <div style='width:40px; text-align:center'>Julia</div> <div style='width:40px; text-align:center'>Julia</div> <div style='width:40px; text-align:center'>Julia</div> <div style='width:40px; text-align:center'>Julia</div> <div style='width:40px; text-align:center'>Julia</div> <div style='width:40px; text-align:center'>Julia</div> <div style='width:40px; text-align:center'>Julia</div> <div style='width:40px; text-align:center'>Julia</div></div><div style='display:flex;flex-direction:row'><div style='width:40px; text-align:center'>Julia</div> <div style='width:40px; text-align:center'>Julia</div> <div style='width:40px; text-align:center'>Julia</div> <div style='width:40px; text-align:center'>Julia</div> <div style='width:40px; text-align:center'>Julia</div> <div style='width:40px; text-align:center'>Julia</div> <div style='width:40px; text-align:center'>Julia</div> <div style='width:40px; text-align:center'>Julia</div> <div style='width:40px; text-align:center'>Julia</div> <div style='width:40px; text-align:center'>Julia</div></div><div style='display:flex;flex-direction:row'><div style='width:40px; text-align:center'>Julia</div> <div style='width:40px; text-align:center'>Julia</div> <div style='width:40px; text-align:center'>Julia</div> <div style='width:40px; text-align:center'>Julia</div> <div style='width:40px; text-align:center'>Julia</div> <div style='width:40px; text-align:center'>Julia</div> <div style='width:40px; text-align:center'>Julia</div> <div style='width:40px; text-align:center'>Julia</div> <div style='width:40px; text-align:center'>Julia</div> <div style='width:40px; text-align:center'>Julia</div></div><div style='display:flex;flex-direction:row'><div style='width:40px; text-align:center'>Julia</div> <div style='width:40px; text-align:center'>Julia</div> <div style='width:40px; text-align:center'>Julia</div> <div style='width:40px; text-align:center'>♡</div> <div style='width:40px; text-align:center'>♡</div> <div style='width:40px; text-align:center'>♡</div> <div style='width:40px; text-align:center'>Julia</div> <div style='width:40px; text-align:center'>Julia</div> <div style='width:40px; text-align:center'>Julia</div> <div style='width:40px; text-align:center'>Julia</div></div><div style='display:flex;flex-direction:row'><div style='width:40px; text-align:center'>Julia</div> <div style='width:40px; text-align:center'>Julia</div> <div style='width:40px; text-align:center'>Julia</div> <div style='width:40px; text-align:center'>♡</div> <div style='width:40px; text-align:center'>♡</div> <div style='width:40px; text-align:center'>♡</div> <div style='width:40px; text-align:center'>Julia</div> <div style='width:40px; text-align:center'>Julia</div> <div style='width:40px; text-align:center'>Julia</div> <div style='width:40px; text-align:center'>Julia</div></div><div style='display:flex;flex-direction:row'><div style='width:40px; text-align:center'>Julia</div> <div style='width:40px; text-align:center'>Julia</div> <div style='width:40px; text-align:center'>Julia</div> <div style='width:40px; text-align:center'>♡</div> <div style='width:40px; text-align:center'>♡</div> <div style='width:40px; text-align:center'>♡</div> <div style='width:40px; text-align:center'>Julia</div> <div style='width:40px; text-align:center'>Julia</div> <div style='width:40px; text-align:center'>Julia</div> <div style='width:40px; text-align:center'>Julia</div></div><div style='display:flex;flex-direction:row'><div style='width:40px; text-align:center'>Julia</div> <div style='width:40px; text-align:center'>Julia</div> <div style='width:40px; text-align:center'>Julia</div> <div style='width:40px; text-align:center'>Julia</div> <div style='width:40px; text-align:center'>Julia</div> <div style='width:40px; text-align:center'>Julia</div> <div style='width:40px; text-align:center'>Julia</div> <div style='width:40px; text-align:center'>Julia</div> <div style='width:40px; text-align:center'>Julia</div> <div style='width:40px; text-align:center'>Julia</div></div><div style='display:flex;flex-direction:row'><div style='width:40px; text-align:center'>Julia</div> <div style='width:40px; text-align:center'>Julia</div> <div style='width:40px; text-align:center'>Julia</div> <div style='width:40px; text-align:center'>Julia</div> <div style='width:40px; text-align:center'>Julia</div> <div style='width:40px; text-align:center'>Julia</div> <div style='width:40px; text-align:center'>Julia</div> <div style='width:40px; text-align:center'>Julia</div> <div style='width:40px; text-align:center'>Julia</div> <div style='width:40px; text-align:center'>Julia</div></div><div style='display:flex;flex-direction:row'><div style='width:40px; text-align:center'>Julia</div> <div style='width:40px; text-align:center'>Julia</div> <div style='width:40px; text-align:center'>Julia</div> <div style='width:40px; text-align:center'>Julia</div> <div style='width:40px; text-align:center'>Julia</div> <div style='width:40px; text-align:center'>Julia</div> <div style='width:40px; text-align:center'>Julia</div> <div style='width:40px; text-align:center'>Julia</div> <div style='width:40px; text-align:center'>Julia</div> <div style='width:40px; text-align:center'>Julia</div></div><div style='display:flex;flex-direction:row'><div style='width:40px; text-align:center'>Julia</div> <div style='width:40px; text-align:center'>Julia</div> <div style='width:40px; text-align:center'>Julia</div> <div style='width:40px; text-align:center'>Julia</div> <div style='width:40px; text-align:center'>Julia</div> <div style='width:40px; text-align:center'>Julia</div> <div style='width:40px; text-align:center'>Julia</div> <div style='width:40px; text-align:center'>Julia</div> <div style='width:40px; text-align:center'>Julia</div> <div style='width:40px; text-align:center'>Julia</div></div>"
      ],
      "text/plain": [
       "10×10 Array{String,2}:\n",
       " \"Julia\"  \"Julia\"  \"Julia\"  \"Julia\"  …  \"Julia\"  \"Julia\"  \"Julia\"  \"Julia\"\n",
       " \"Julia\"  \"Julia\"  \"Julia\"  \"Julia\"     \"Julia\"  \"Julia\"  \"Julia\"  \"Julia\"\n",
       " \"Julia\"  \"Julia\"  \"Julia\"  \"Julia\"     \"Julia\"  \"Julia\"  \"Julia\"  \"Julia\"\n",
       " \"Julia\"  \"Julia\"  \"Julia\"  \"♡\"         \"Julia\"  \"Julia\"  \"Julia\"  \"Julia\"\n",
       " \"Julia\"  \"Julia\"  \"Julia\"  \"♡\"         \"Julia\"  \"Julia\"  \"Julia\"  \"Julia\"\n",
       " \"Julia\"  \"Julia\"  \"Julia\"  \"♡\"      …  \"Julia\"  \"Julia\"  \"Julia\"  \"Julia\"\n",
       " \"Julia\"  \"Julia\"  \"Julia\"  \"Julia\"     \"Julia\"  \"Julia\"  \"Julia\"  \"Julia\"\n",
       " \"Julia\"  \"Julia\"  \"Julia\"  \"Julia\"     \"Julia\"  \"Julia\"  \"Julia\"  \"Julia\"\n",
       " \"Julia\"  \"Julia\"  \"Julia\"  \"Julia\"     \"Julia\"  \"Julia\"  \"Julia\"  \"Julia\"\n",
       " \"Julia\"  \"Julia\"  \"Julia\"  \"Julia\"     \"Julia\"  \"Julia\"  \"Julia\"  \"Julia\""
      ]
     },
     "execution_count": 104,
     "metadata": {
      "comm_id": "95ac6a6d-d325-4047-8ebf-3852b7f919c0",
      "reactive": true
     },
     "output_type": "execute_result"
    }
   ],
   "source": [
    "@manipulate for i in 1:n-2, j in 1:n-2\n",
    "    insert_block(A, i, j, \"♡\")\n",
    "end"
   ]
  },
  {
   "cell_type": "code",
   "execution_count": 105,
   "metadata": {},
   "outputs": [
    {
     "data": {
      "text/html": [
       "<div style='display:flex;flex-direction:row'><div style='width:40px; text-align:center'>👽</div> <div style='width:40px; text-align:center'>✈</div> <div style='width:40px; text-align:center'>👽</div> <div style='width:40px; text-align:center'>👽</div> <div style='width:40px; text-align:center'>✈</div></div><div style='display:flex;flex-direction:row'><div style='width:40px; text-align:center'>✈</div> <div style='width:40px; text-align:center'>👽</div> <div style='width:40px; text-align:center'>✈</div> <div style='width:40px; text-align:center'>👽</div> <div style='width:40px; text-align:center'>👽</div></div><div style='display:flex;flex-direction:row'><div style='width:40px; text-align:center'>✈</div> <div style='width:40px; text-align:center'>✈</div> <div style='width:40px; text-align:center'>✈</div> <div style='width:40px; text-align:center'>👽</div> <div style='width:40px; text-align:center'>✈</div></div><div style='display:flex;flex-direction:row'><div style='width:40px; text-align:center'>✈</div> <div style='width:40px; text-align:center'>👽</div> <div style='width:40px; text-align:center'>👽</div> <div style='width:40px; text-align:center'>👽</div> <div style='width:40px; text-align:center'>✈</div></div><div style='display:flex;flex-direction:row'><div style='width:40px; text-align:center'>✈</div> <div style='width:40px; text-align:center'>👽</div> <div style='width:40px; text-align:center'>✈</div> <div style='width:40px; text-align:center'>✈</div> <div style='width:40px; text-align:center'>✈</div></div>"
      ],
      "text/plain": [
       "5×5 Array{String,2}:\n",
       " \"👽\"  \"✈\"  \"👽\"  \"👽\"  \"✈\"\n",
       " \"✈\"  \"👽\"  \"✈\"  \"👽\"  \"👽\"\n",
       " \"✈\"  \"✈\"  \"✈\"  \"👽\"  \"✈\"\n",
       " \"✈\"  \"👽\"  \"👽\"  \"👽\"  \"✈\"\n",
       " \"✈\"  \"👽\"  \"✈\"  \"✈\"  \"✈\""
      ]
     },
     "execution_count": 105,
     "metadata": {},
     "output_type": "execute_result"
    }
   ],
   "source": [
    "airplane = \"✈\"\n",
    "alien = \"👽\"\n",
    "rand([airplane, alien], 5, 5)"
   ]
  },
  {
   "cell_type": "code",
   "execution_count": 106,
   "metadata": {},
   "outputs": [
    {
     "data": {
      "application/vnd.jupyter.widget-view+json": {
       "model_id": "4cf37301-3c64-43dc-bb34-4ca7f3f3c482",
       "version_major": 2,
       "version_minor": 0
      }
     },
     "metadata": {},
     "output_type": "display_data"
    },
    {
     "data": {
      "text/html": [],
      "text/plain": [
       "Interact.Options{:SelectionSlider,Any}(45: \"input-15\" = 4 Any , \"i\", 4, \"4\", 4, Interact.OptionDict(DataStructures.OrderedDict{Any,Any}(\"1\"=>1,\"2\"=>2,\"3\"=>3,\"4\"=>4,\"5\"=>5,\"6\"=>6,\"7\"=>7), Dict{Any,Any}(Pair{Any,Any}(7, \"7\"),Pair{Any,Any}(4, \"4\"),Pair{Any,Any}(2, \"2\"),Pair{Any,Any}(3, \"3\"),Pair{Any,Any}(5, \"5\"),Pair{Any,Any}(6, \"6\"),Pair{Any,Any}(1, \"1\"))), Any[], Any[], true, \"horizontal\")"
      ]
     },
     "metadata": {},
     "output_type": "display_data"
    },
    {
     "data": {
      "application/vnd.jupyter.widget-view+json": {
       "model_id": "7505bd33-349f-440d-b457-95f154891532",
       "version_major": 2,
       "version_minor": 0
      }
     },
     "metadata": {},
     "output_type": "display_data"
    },
    {
     "data": {
      "text/html": [],
      "text/plain": [
       "Interact.Options{:SelectionSlider,Any}(47: \"input-16\" = 4 Any , \"j\", 4, \"4\", 4, Interact.OptionDict(DataStructures.OrderedDict{Any,Any}(\"1\"=>1,\"2\"=>2,\"3\"=>3,\"4\"=>4,\"5\"=>5,\"6\"=>6,\"7\"=>7), Dict{Any,Any}(Pair{Any,Any}(7, \"7\"),Pair{Any,Any}(4, \"4\"),Pair{Any,Any}(2, \"2\"),Pair{Any,Any}(3, \"3\"),Pair{Any,Any}(5, \"5\"),Pair{Any,Any}(6, \"6\"),Pair{Any,Any}(1, \"1\"))), Any[], Any[], true, \"horizontal\")"
      ]
     },
     "metadata": {},
     "output_type": "display_data"
    },
    {
     "data": {
      "text/html": [
       "<div style='display:flex;flex-direction:row'><div style='width:40px; text-align:center'>✈</div> <div style='width:40px; text-align:center'>✈</div> <div style='width:40px; text-align:center'>✈</div> <div style='width:40px; text-align:center'>✈</div> <div style='width:40px; text-align:center'>✈</div> <div style='width:40px; text-align:center'>✈</div> <div style='width:40px; text-align:center'>✈</div> <div style='width:40px; text-align:center'>✈</div> <div style='width:40px; text-align:center'>✈</div></div><div style='display:flex;flex-direction:row'><div style='width:40px; text-align:center'>✈</div> <div style='width:40px; text-align:center'>✈</div> <div style='width:40px; text-align:center'>✈</div> <div style='width:40px; text-align:center'>✈</div> <div style='width:40px; text-align:center'>✈</div> <div style='width:40px; text-align:center'>✈</div> <div style='width:40px; text-align:center'>✈</div> <div style='width:40px; text-align:center'>✈</div> <div style='width:40px; text-align:center'>✈</div></div><div style='display:flex;flex-direction:row'><div style='width:40px; text-align:center'>✈</div> <div style='width:40px; text-align:center'>✈</div> <div style='width:40px; text-align:center'>✈</div> <div style='width:40px; text-align:center'>✈</div> <div style='width:40px; text-align:center'>✈</div> <div style='width:40px; text-align:center'>✈</div> <div style='width:40px; text-align:center'>✈</div> <div style='width:40px; text-align:center'>✈</div> <div style='width:40px; text-align:center'>✈</div></div><div style='display:flex;flex-direction:row'><div style='width:40px; text-align:center'>✈</div> <div style='width:40px; text-align:center'>✈</div> <div style='width:40px; text-align:center'>✈</div> <div style='width:40px; text-align:center'>👽</div> <div style='width:40px; text-align:center'>👽</div> <div style='width:40px; text-align:center'>👽</div> <div style='width:40px; text-align:center'>✈</div> <div style='width:40px; text-align:center'>✈</div> <div style='width:40px; text-align:center'>✈</div></div><div style='display:flex;flex-direction:row'><div style='width:40px; text-align:center'>✈</div> <div style='width:40px; text-align:center'>✈</div> <div style='width:40px; text-align:center'>✈</div> <div style='width:40px; text-align:center'>👽</div> <div style='width:40px; text-align:center'>👽</div> <div style='width:40px; text-align:center'>👽</div> <div style='width:40px; text-align:center'>✈</div> <div style='width:40px; text-align:center'>✈</div> <div style='width:40px; text-align:center'>✈</div></div><div style='display:flex;flex-direction:row'><div style='width:40px; text-align:center'>✈</div> <div style='width:40px; text-align:center'>✈</div> <div style='width:40px; text-align:center'>✈</div> <div style='width:40px; text-align:center'>👽</div> <div style='width:40px; text-align:center'>👽</div> <div style='width:40px; text-align:center'>👽</div> <div style='width:40px; text-align:center'>✈</div> <div style='width:40px; text-align:center'>✈</div> <div style='width:40px; text-align:center'>✈</div></div><div style='display:flex;flex-direction:row'><div style='width:40px; text-align:center'>✈</div> <div style='width:40px; text-align:center'>✈</div> <div style='width:40px; text-align:center'>✈</div> <div style='width:40px; text-align:center'>✈</div> <div style='width:40px; text-align:center'>✈</div> <div style='width:40px; text-align:center'>✈</div> <div style='width:40px; text-align:center'>✈</div> <div style='width:40px; text-align:center'>✈</div> <div style='width:40px; text-align:center'>✈</div></div><div style='display:flex;flex-direction:row'><div style='width:40px; text-align:center'>✈</div> <div style='width:40px; text-align:center'>✈</div> <div style='width:40px; text-align:center'>✈</div> <div style='width:40px; text-align:center'>✈</div> <div style='width:40px; text-align:center'>✈</div> <div style='width:40px; text-align:center'>✈</div> <div style='width:40px; text-align:center'>✈</div> <div style='width:40px; text-align:center'>✈</div> <div style='width:40px; text-align:center'>✈</div></div><div style='display:flex;flex-direction:row'><div style='width:40px; text-align:center'>✈</div> <div style='width:40px; text-align:center'>✈</div> <div style='width:40px; text-align:center'>✈</div> <div style='width:40px; text-align:center'>✈</div> <div style='width:40px; text-align:center'>✈</div> <div style='width:40px; text-align:center'>✈</div> <div style='width:40px; text-align:center'>✈</div> <div style='width:40px; text-align:center'>✈</div> <div style='width:40px; text-align:center'>✈</div></div>"
      ],
      "text/plain": [
       "9×9 Array{String,2}:\n",
       " \"✈\"  \"✈\"  \"✈\"  \"✈\"  \"✈\"  \"✈\"  \"✈\"  \"✈\"  \"✈\"\n",
       " \"✈\"  \"✈\"  \"✈\"  \"✈\"  \"✈\"  \"✈\"  \"✈\"  \"✈\"  \"✈\"\n",
       " \"✈\"  \"✈\"  \"✈\"  \"✈\"  \"✈\"  \"✈\"  \"✈\"  \"✈\"  \"✈\"\n",
       " \"✈\"  \"✈\"  \"✈\"  \"👽\"  \"👽\"  \"👽\"  \"✈\"  \"✈\"  \"✈\"\n",
       " \"✈\"  \"✈\"  \"✈\"  \"👽\"  \"👽\"  \"👽\"  \"✈\"  \"✈\"  \"✈\"\n",
       " \"✈\"  \"✈\"  \"✈\"  \"👽\"  \"👽\"  \"👽\"  \"✈\"  \"✈\"  \"✈\"\n",
       " \"✈\"  \"✈\"  \"✈\"  \"✈\"  \"✈\"  \"✈\"  \"✈\"  \"✈\"  \"✈\"\n",
       " \"✈\"  \"✈\"  \"✈\"  \"✈\"  \"✈\"  \"✈\"  \"✈\"  \"✈\"  \"✈\"\n",
       " \"✈\"  \"✈\"  \"✈\"  \"✈\"  \"✈\"  \"✈\"  \"✈\"  \"✈\"  \"✈\""
      ]
     },
     "execution_count": 106,
     "metadata": {
      "comm_id": "95009b27-7d92-4fe6-8460-d850f78813f5",
      "reactive": true
     },
     "output_type": "execute_result"
    }
   ],
   "source": [
    "A = fill(airplane, 9, 9)\n",
    "n = size(A, 1)\n",
    "\n",
    "@manipulate for i in 1:n-2, j in 1:n-2\n",
    "    insert_block(A, i, j, alien)\n",
    "end"
   ]
  },
  {
   "cell_type": "markdown",
   "metadata": {},
   "source": [
    "# Colors"
   ]
  },
  {
   "cell_type": "markdown",
   "metadata": {},
   "source": [
    "The `Colors` package provides objects representing colours:"
   ]
  },
  {
   "cell_type": "code",
   "execution_count": 107,
   "metadata": {},
   "outputs": [],
   "source": [
    "#Pkg.add(\"Colors\")\n",
    "using Colors\n",
    "\n",
    "# import Colors as c"
   ]
  },
  {
   "cell_type": "code",
   "execution_count": 114,
   "metadata": {},
   "outputs": [
    {
     "data": {
      "image/svg+xml": [
       "<?xml version=\"1.0\" encoding=\"UTF-8\"?>\n",
       "<!DOCTYPE svg PUBLIC \"-//W3C//DTD SVG 1.1//EN\"\n",
       " \"http://www.w3.org/Graphics/SVG/1.1/DTD/svg11.dtd\">\n",
       "<svg xmlns=\"http://www.w3.org/2000/svg\" version=\"1.1\"\n",
       "     width=\"180.0mm\" height=\"25.0mm\"\n",
       "     shape-rendering=\"crispEdges\">\n",
       "<rect x=\"0.0mm\" y=\"0.0mm\"\n",
       "      width=\"14.0mm\" height=\"24.0mm\"\n",
       "      fill=\"#000000\" stroke=\"none\" />\n",
       "<rect x=\"15.0mm\" y=\"0.0mm\"\n",
       "      width=\"14.0mm\" height=\"24.0mm\"\n",
       "      fill=\"#FFFF62\" stroke=\"none\" />\n",
       "<rect x=\"30.0mm\" y=\"0.0mm\"\n",
       "      width=\"14.0mm\" height=\"24.0mm\"\n",
       "      fill=\"#FF9FFF\" stroke=\"none\" />\n",
       "<rect x=\"45.0mm\" y=\"0.0mm\"\n",
       "      width=\"14.0mm\" height=\"24.0mm\"\n",
       "      fill=\"#00D6FF\" stroke=\"none\" />\n",
       "<rect x=\"60.0mm\" y=\"0.0mm\"\n",
       "      width=\"14.0mm\" height=\"24.0mm\"\n",
       "      fill=\"#D74400\" stroke=\"none\" />\n",
       "<rect x=\"75.0mm\" y=\"0.0mm\"\n",
       "      width=\"14.0mm\" height=\"24.0mm\"\n",
       "      fill=\"#008029\" stroke=\"none\" />\n",
       "<rect x=\"90.0mm\" y=\"0.0mm\"\n",
       "      width=\"14.0mm\" height=\"24.0mm\"\n",
       "      fill=\"#005FD5\" stroke=\"none\" />\n",
       "<rect x=\"105.0mm\" y=\"0.0mm\"\n",
       "      width=\"14.0mm\" height=\"24.0mm\"\n",
       "      fill=\"#930068\" stroke=\"none\" />\n",
       "<rect x=\"120.0mm\" y=\"0.0mm\"\n",
       "      width=\"14.0mm\" height=\"24.0mm\"\n",
       "      fill=\"#FFCBB5\" stroke=\"none\" />\n",
       "<rect x=\"135.0mm\" y=\"0.0mm\"\n",
       "      width=\"14.0mm\" height=\"24.0mm\"\n",
       "      fill=\"#A78600\" stroke=\"none\" />\n",
       "<rect x=\"150.0mm\" y=\"0.0mm\"\n",
       "      width=\"14.0mm\" height=\"24.0mm\"\n",
       "      fill=\"#00FFC5\" stroke=\"none\" />\n",
       "<rect x=\"165.0mm\" y=\"0.0mm\"\n",
       "      width=\"14.0mm\" height=\"24.0mm\"\n",
       "      fill=\"#007E86\" stroke=\"none\" />\n",
       "</svg>"
      ],
      "text/plain": [
       "12-element Array{ColorTypes.RGB{FixedPointNumbers.Normed{UInt8,8}},1}:\n",
       " RGB{N0f8}(0.0,0.0,0.0)    \n",
       " RGB{N0f8}(1.0,1.0,0.384)  \n",
       " RGB{N0f8}(1.0,0.624,1.0)  \n",
       " RGB{N0f8}(0.0,0.839,1.0)  \n",
       " RGB{N0f8}(0.843,0.267,0.0)\n",
       " RGB{N0f8}(0.0,0.502,0.161)\n",
       " RGB{N0f8}(0.0,0.373,0.835)\n",
       " RGB{N0f8}(0.576,0.0,0.408)\n",
       " RGB{N0f8}(1.0,0.796,0.71) \n",
       " RGB{N0f8}(0.655,0.525,0.0)\n",
       " RGB{N0f8}(0.0,1.0,0.773)  \n",
       " RGB{N0f8}(0.0,0.494,0.525)"
      ]
     },
     "execution_count": 114,
     "metadata": {},
     "output_type": "execute_result"
    }
   ],
   "source": [
    "distinguishable_colors(12)"
   ]
  },
  {
   "cell_type": "code",
   "execution_count": 109,
   "metadata": {},
   "outputs": [
    {
     "data": {
      "application/vnd.jupyter.widget-view+json": {
       "model_id": "83e73cd1-5af1-4609-b85a-0b5f43098946",
       "version_major": 2,
       "version_minor": 0
      }
     },
     "metadata": {},
     "output_type": "display_data"
    },
    {
     "data": {
      "text/html": [],
      "text/plain": [
       "Interact.Options{:SelectionSlider,Any}(51: \"input-17\" = 40 Any , \"n\", 40, \"40\", 40, Interact.OptionDict(DataStructures.OrderedDict{Any,Any}(\"1\"=>1,\"2\"=>2,\"3\"=>3,\"4\"=>4,\"5\"=>5,\"6\"=>6,\"7\"=>7,\"8\"=>8,\"9\"=>9,\"10\"=>10…), Dict{Any,Any}(Pair{Any,Any}(68, \"68\"),Pair{Any,Any}(2, \"2\"),Pair{Any,Any}(11, \"11\"),Pair{Any,Any}(39, \"39\"),Pair{Any,Any}(46, \"46\"),Pair{Any,Any}(25, \"25\"),Pair{Any,Any}(55, \"55\"),Pair{Any,Any}(42, \"42\"),Pair{Any,Any}(29, \"29\"),Pair{Any,Any}(58, \"58\")…)), Any[], Any[], true, \"horizontal\")"
      ]
     },
     "metadata": {},
     "output_type": "display_data"
    },
    {
     "data": {
      "image/svg+xml": [
       "<?xml version=\"1.0\" encoding=\"UTF-8\"?>\n",
       "<!DOCTYPE svg PUBLIC \"-//W3C//DTD SVG 1.1//EN\"\n",
       " \"http://www.w3.org/Graphics/SVG/1.1/DTD/svg11.dtd\">\n",
       "<svg xmlns=\"http://www.w3.org/2000/svg\" version=\"1.1\"\n",
       "     width=\"180.0mm\" height=\"25.0mm\"\n",
       "     shape-rendering=\"crispEdges\">\n",
       "<rect x=\"0.0mm\" y=\"0.0mm\"\n",
       "      width=\"3.5mm\" height=\"24.0mm\"\n",
       "      fill=\"#000000\" stroke=\"none\" />\n",
       "<rect x=\"4.5mm\" y=\"0.0mm\"\n",
       "      width=\"3.5mm\" height=\"24.0mm\"\n",
       "      fill=\"#FFFF62\" stroke=\"none\" />\n",
       "<rect x=\"9.0mm\" y=\"0.0mm\"\n",
       "      width=\"3.5mm\" height=\"24.0mm\"\n",
       "      fill=\"#FF9FFF\" stroke=\"none\" />\n",
       "<rect x=\"13.5mm\" y=\"0.0mm\"\n",
       "      width=\"3.5mm\" height=\"24.0mm\"\n",
       "      fill=\"#00D6FF\" stroke=\"none\" />\n",
       "<rect x=\"18.0mm\" y=\"0.0mm\"\n",
       "      width=\"3.5mm\" height=\"24.0mm\"\n",
       "      fill=\"#D74400\" stroke=\"none\" />\n",
       "<rect x=\"22.5mm\" y=\"0.0mm\"\n",
       "      width=\"3.5mm\" height=\"24.0mm\"\n",
       "      fill=\"#008029\" stroke=\"none\" />\n",
       "<rect x=\"27.0mm\" y=\"0.0mm\"\n",
       "      width=\"3.5mm\" height=\"24.0mm\"\n",
       "      fill=\"#005FD5\" stroke=\"none\" />\n",
       "<rect x=\"31.5mm\" y=\"0.0mm\"\n",
       "      width=\"3.5mm\" height=\"24.0mm\"\n",
       "      fill=\"#930068\" stroke=\"none\" />\n",
       "<rect x=\"36.0mm\" y=\"0.0mm\"\n",
       "      width=\"3.5mm\" height=\"24.0mm\"\n",
       "      fill=\"#FFCBB5\" stroke=\"none\" />\n",
       "<rect x=\"40.5mm\" y=\"0.0mm\"\n",
       "      width=\"3.5mm\" height=\"24.0mm\"\n",
       "      fill=\"#A78600\" stroke=\"none\" />\n",
       "<rect x=\"45.0mm\" y=\"0.0mm\"\n",
       "      width=\"3.5mm\" height=\"24.0mm\"\n",
       "      fill=\"#00FFC5\" stroke=\"none\" />\n",
       "<rect x=\"49.5mm\" y=\"0.0mm\"\n",
       "      width=\"3.5mm\" height=\"24.0mm\"\n",
       "      fill=\"#007E86\" stroke=\"none\" />\n",
       "<rect x=\"54.0mm\" y=\"0.0mm\"\n",
       "      width=\"3.5mm\" height=\"24.0mm\"\n",
       "      fill=\"#534200\" stroke=\"none\" />\n",
       "<rect x=\"58.5mm\" y=\"0.0mm\"\n",
       "      width=\"3.5mm\" height=\"24.0mm\"\n",
       "      fill=\"#8C8793\" stroke=\"none\" />\n",
       "<rect x=\"63.0mm\" y=\"0.0mm\"\n",
       "      width=\"3.5mm\" height=\"24.0mm\"\n",
       "      fill=\"#680000\" stroke=\"none\" />\n",
       "<rect x=\"67.5mm\" y=\"0.0mm\"\n",
       "      width=\"3.5mm\" height=\"24.0mm\"\n",
       "      fill=\"#00005A\" stroke=\"none\" />\n",
       "<rect x=\"72.0mm\" y=\"0.0mm\"\n",
       "      width=\"3.5mm\" height=\"24.0mm\"\n",
       "      fill=\"#FF2C6F\" stroke=\"none\" />\n",
       "<rect x=\"76.5mm\" y=\"0.0mm\"\n",
       "      width=\"3.5mm\" height=\"24.0mm\"\n",
       "      fill=\"#F7FFF6\" stroke=\"none\" />\n",
       "<rect x=\"81.0mm\" y=\"0.0mm\"\n",
       "      width=\"3.5mm\" height=\"24.0mm\"\n",
       "      fill=\"#003D25\" stroke=\"none\" />\n",
       "<rect x=\"85.5mm\" y=\"0.0mm\"\n",
       "      width=\"3.5mm\" height=\"24.0mm\"\n",
       "      fill=\"#91ABFF\" stroke=\"none\" />\n",
       "<rect x=\"90.0mm\" y=\"0.0mm\"\n",
       "      width=\"3.5mm\" height=\"24.0mm\"\n",
       "      fill=\"#A1B684\" stroke=\"none\" />\n",
       "<rect x=\"94.5mm\" y=\"0.0mm\"\n",
       "      width=\"3.5mm\" height=\"24.0mm\"\n",
       "      fill=\"#605051\" stroke=\"none\" />\n",
       "<rect x=\"99.0mm\" y=\"0.0mm\"\n",
       "      width=\"3.5mm\" height=\"24.0mm\"\n",
       "      fill=\"#C129E2\" stroke=\"none\" />\n",
       "<rect x=\"103.5mm\" y=\"0.0mm\"\n",
       "      width=\"3.5mm\" height=\"24.0mm\"\n",
       "      fill=\"#FF8E1E\" stroke=\"none\" />\n",
       "<rect x=\"108.0mm\" y=\"0.0mm\"\n",
       "      width=\"3.5mm\" height=\"24.0mm\"\n",
       "      fill=\"#003F51\" stroke=\"none\" />\n",
       "<rect x=\"112.5mm\" y=\"0.0mm\"\n",
       "      width=\"3.5mm\" height=\"24.0mm\"\n",
       "      fill=\"#797860\" stroke=\"none\" />\n",
       "<rect x=\"117.0mm\" y=\"0.0mm\"\n",
       "      width=\"3.5mm\" height=\"24.0mm\"\n",
       "      fill=\"#2E001C\" stroke=\"none\" />\n",
       "<rect x=\"121.5mm\" y=\"0.0mm\"\n",
       "      width=\"3.5mm\" height=\"24.0mm\"\n",
       "      fill=\"#01AF99\" stroke=\"none\" />\n",
       "<rect x=\"126.0mm\" y=\"0.0mm\"\n",
       "      width=\"3.5mm\" height=\"24.0mm\"\n",
       "      fill=\"#FFE6FF\" stroke=\"none\" />\n",
       "<rect x=\"130.5mm\" y=\"0.0mm\"\n",
       "      width=\"3.5mm\" height=\"24.0mm\"\n",
       "      fill=\"#77DA00\" stroke=\"none\" />\n",
       "<rect x=\"135.0mm\" y=\"0.0mm\"\n",
       "      width=\"3.5mm\" height=\"24.0mm\"\n",
       "      fill=\"#5B4B83\" stroke=\"none\" />\n",
       "<rect x=\"139.5mm\" y=\"0.0mm\"\n",
       "      width=\"3.5mm\" height=\"24.0mm\"\n",
       "      fill=\"#0094CF\" stroke=\"none\" />\n",
       "<rect x=\"144.0mm\" y=\"0.0mm\"\n",
       "      width=\"3.5mm\" height=\"24.0mm\"\n",
       "      fill=\"#B8739F\" stroke=\"none\" />\n",
       "<rect x=\"148.5mm\" y=\"0.0mm\"\n",
       "      width=\"3.5mm\" height=\"24.0mm\"\n",
       "      fill=\"#FF8269\" stroke=\"none\" />\n",
       "<rect x=\"153.0mm\" y=\"0.0mm\"\n",
       "      width=\"3.5mm\" height=\"24.0mm\"\n",
       "      fill=\"#FFBE05\" stroke=\"none\" />\n",
       "<rect x=\"157.5mm\" y=\"0.0mm\"\n",
       "      width=\"3.5mm\" height=\"24.0mm\"\n",
       "      fill=\"#C20030\" stroke=\"none\" />\n",
       "<rect x=\"162.0mm\" y=\"0.0mm\"\n",
       "      width=\"3.5mm\" height=\"24.0mm\"\n",
       "      fill=\"#A9806C\" stroke=\"none\" />\n",
       "<rect x=\"166.5mm\" y=\"0.0mm\"\n",
       "      width=\"3.5mm\" height=\"24.0mm\"\n",
       "      fill=\"#955600\" stroke=\"none\" />\n",
       "<rect x=\"171.0mm\" y=\"0.0mm\"\n",
       "      width=\"3.5mm\" height=\"24.0mm\"\n",
       "      fill=\"#9FB3B2\" stroke=\"none\" />\n",
       "<rect x=\"175.5mm\" y=\"0.0mm\"\n",
       "      width=\"3.5mm\" height=\"24.0mm\"\n",
       "      fill=\"#789500\" stroke=\"none\" />\n",
       "</svg>"
      ],
      "text/plain": [
       "40-element Array{ColorTypes.RGB{FixedPointNumbers.Normed{UInt8,8}},1}:\n",
       " RGB{N0f8}(0.0,0.0,0.0)      \n",
       " RGB{N0f8}(1.0,1.0,0.384)    \n",
       " RGB{N0f8}(1.0,0.624,1.0)    \n",
       " RGB{N0f8}(0.0,0.839,1.0)    \n",
       " RGB{N0f8}(0.843,0.267,0.0)  \n",
       " RGB{N0f8}(0.0,0.502,0.161)  \n",
       " RGB{N0f8}(0.0,0.373,0.835)  \n",
       " RGB{N0f8}(0.576,0.0,0.408)  \n",
       " RGB{N0f8}(1.0,0.796,0.71)   \n",
       " RGB{N0f8}(0.655,0.525,0.0)  \n",
       " RGB{N0f8}(0.0,1.0,0.773)    \n",
       " RGB{N0f8}(0.0,0.494,0.525)  \n",
       " RGB{N0f8}(0.325,0.259,0.0)  \n",
       " ⋮                           \n",
       " RGB{N0f8}(1.0,0.902,1.0)    \n",
       " RGB{N0f8}(0.467,0.855,0.0)  \n",
       " RGB{N0f8}(0.357,0.294,0.514)\n",
       " RGB{N0f8}(0.0,0.58,0.812)   \n",
       " RGB{N0f8}(0.722,0.451,0.624)\n",
       " RGB{N0f8}(1.0,0.51,0.412)   \n",
       " RGB{N0f8}(1.0,0.745,0.02)   \n",
       " RGB{N0f8}(0.761,0.0,0.188)  \n",
       " RGB{N0f8}(0.663,0.502,0.424)\n",
       " RGB{N0f8}(0.584,0.337,0.0)  \n",
       " RGB{N0f8}(0.624,0.702,0.698)\n",
       " RGB{N0f8}(0.471,0.584,0.0)  "
      ]
     },
     "execution_count": 109,
     "metadata": {
      "comm_id": "6f06c294-bb2c-4b62-ae9a-9013a18eec18",
      "reactive": true
     },
     "output_type": "execute_result"
    }
   ],
   "source": [
    "@manipulate for n in 1:80\n",
    "    Cdistinguishable_colors(n)\n",
    "end"
   ]
  },
  {
   "cell_type": "code",
   "execution_count": 111,
   "metadata": {},
   "outputs": [
    {
     "data": {
      "text/plain": [
       "Array{ColorTypes.RGB{FixedPointNumbers.Normed{UInt8,8}},1}"
      ]
     },
     "execution_count": 111,
     "metadata": {},
     "output_type": "execute_result"
    }
   ],
   "source": [
    "colors = distinguishable_colors(100)\n",
    "typeof(colors)"
   ]
  },
  {
   "cell_type": "code",
   "execution_count": 112,
   "metadata": {},
   "outputs": [
    {
     "data": {
      "application/vnd.jupyter.widget-view+json": {
       "model_id": "0c1594fd-d733-4a30-9eb4-114215f78d45",
       "version_major": 2,
       "version_minor": 0
      }
     },
     "metadata": {},
     "output_type": "display_data"
    },
    {
     "data": {
      "text/html": [],
      "text/plain": [
       "Interact.Options{:SelectionSlider,Any}(55: \"input-18\" = 4 Any , \"i\", 4, \"4\", 4, Interact.OptionDict(DataStructures.OrderedDict{Any,Any}(\"1\"=>1,\"2\"=>2,\"3\"=>3,\"4\"=>4,\"5\"=>5,\"6\"=>6,\"7\"=>7,\"8\"=>8), Dict{Any,Any}(Pair{Any,Any}(7, \"7\"),Pair{Any,Any}(4, \"4\"),Pair{Any,Any}(2, \"2\"),Pair{Any,Any}(3, \"3\"),Pair{Any,Any}(5, \"5\"),Pair{Any,Any}(8, \"8\"),Pair{Any,Any}(6, \"6\"),Pair{Any,Any}(1, \"1\"))), Any[], Any[], true, \"horizontal\")"
      ]
     },
     "metadata": {},
     "output_type": "display_data"
    },
    {
     "data": {
      "application/vnd.jupyter.widget-view+json": {
       "model_id": "3da97344-23b6-4122-b94d-1fc7c1924980",
       "version_major": 2,
       "version_minor": 0
      }
     },
     "metadata": {},
     "output_type": "display_data"
    },
    {
     "data": {
      "text/html": [],
      "text/plain": [
       "Interact.Options{:SelectionSlider,Any}(57: \"input-19\" = 4 Any , \"j\", 4, \"4\", 4, Interact.OptionDict(DataStructures.OrderedDict{Any,Any}(\"1\"=>1,\"2\"=>2,\"3\"=>3,\"4\"=>4,\"5\"=>5,\"6\"=>6,\"7\"=>7,\"8\"=>8), Dict{Any,Any}(Pair{Any,Any}(7, \"7\"),Pair{Any,Any}(4, \"4\"),Pair{Any,Any}(2, \"2\"),Pair{Any,Any}(3, \"3\"),Pair{Any,Any}(5, \"5\"),Pair{Any,Any}(8, \"8\"),Pair{Any,Any}(6, \"6\"),Pair{Any,Any}(1, \"1\"))), Any[], Any[], true, \"horizontal\")"
      ]
     },
     "metadata": {},
     "output_type": "display_data"
    },
    {
     "data": {
      "text/plain": [
       "10×10 Array{Int64,2}:\n",
       " 0  0  0  0  0  0  0  0  0  0\n",
       " 0  0  0  0  0  0  0  0  0  0\n",
       " 0  0  0  0  0  0  0  0  0  0\n",
       " 0  0  0  7  7  7  0  0  0  0\n",
       " 0  0  0  7  7  7  0  0  0  0\n",
       " 0  0  0  7  7  7  0  0  0  0\n",
       " 0  0  0  0  0  0  0  0  0  0\n",
       " 0  0  0  0  0  0  0  0  0  0\n",
       " 0  0  0  0  0  0  0  0  0  0\n",
       " 0  0  0  0  0  0  0  0  0  0"
      ]
     },
     "execution_count": 112,
     "metadata": {
      "comm_id": "a5e634fb-be5a-4778-a655-3a6fc90871c0",
      "reactive": true
     },
     "output_type": "execute_result"
    }
   ],
   "source": [
    "# Remember this ????\n",
    "A = fill(0, 10, 10)\n",
    "n = size(A, 1)\n",
    "\n",
    "@manipulate for i in 1:n-2, j in 1:n-2\n",
    "    insert_block(A, i, j)\n",
    "end"
   ]
  },
  {
   "cell_type": "markdown",
   "metadata": {},
   "source": [
    "What happens if we use colors instead?"
   ]
  },
  {
   "cell_type": "code",
   "execution_count": 113,
   "metadata": {
    "scrolled": true
   },
   "outputs": [
    {
     "data": {
      "application/vnd.jupyter.widget-view+json": {
       "model_id": "58217f7b-2302-4f93-b774-cef76fcde3ef",
       "version_major": 2,
       "version_minor": 0
      }
     },
     "metadata": {},
     "output_type": "display_data"
    },
    {
     "data": {
      "text/html": [],
      "text/plain": [
       "Interact.Options{:SelectionSlider,Any}(61: \"input-20\" = 4 Any , \"i\", 4, \"4\", 4, Interact.OptionDict(DataStructures.OrderedDict{Any,Any}(\"1\"=>1,\"2\"=>2,\"3\"=>3,\"4\"=>4,\"5\"=>5,\"6\"=>6,\"7\"=>7,\"8\"=>8), Dict{Any,Any}(Pair{Any,Any}(7, \"7\"),Pair{Any,Any}(4, \"4\"),Pair{Any,Any}(2, \"2\"),Pair{Any,Any}(3, \"3\"),Pair{Any,Any}(5, \"5\"),Pair{Any,Any}(8, \"8\"),Pair{Any,Any}(6, \"6\"),Pair{Any,Any}(1, \"1\"))), Any[], Any[], true, \"horizontal\")"
      ]
     },
     "metadata": {},
     "output_type": "display_data"
    },
    {
     "data": {
      "application/vnd.jupyter.widget-view+json": {
       "model_id": "a6352570-1cc8-4cbe-bb32-3133d76ed78c",
       "version_major": 2,
       "version_minor": 0
      }
     },
     "metadata": {},
     "output_type": "display_data"
    },
    {
     "data": {
      "text/html": [],
      "text/plain": [
       "Interact.Options{:SelectionSlider,Any}(63: \"input-21\" = 4 Any , \"j\", 4, \"4\", 4, Interact.OptionDict(DataStructures.OrderedDict{Any,Any}(\"1\"=>1,\"2\"=>2,\"3\"=>3,\"4\"=>4,\"5\"=>5,\"6\"=>6,\"7\"=>7,\"8\"=>8), Dict{Any,Any}(Pair{Any,Any}(7, \"7\"),Pair{Any,Any}(4, \"4\"),Pair{Any,Any}(2, \"2\"),Pair{Any,Any}(3, \"3\"),Pair{Any,Any}(5, \"5\"),Pair{Any,Any}(8, \"8\"),Pair{Any,Any}(6, \"6\"),Pair{Any,Any}(1, \"1\"))), Any[], Any[], true, \"horizontal\")"
      ]
     },
     "metadata": {},
     "output_type": "display_data"
    },
    {
     "data": {
      "image/svg+xml": [
       "<?xml version=\"1.0\" encoding=\"UTF-8\"?>\n",
       "<!DOCTYPE svg PUBLIC \"-//W3C//DTD SVG 1.1//EN\"\n",
       " \"http://www.w3.org/Graphics/SVG/1.1/DTD/svg11.dtd\">\n",
       "<svg xmlns=\"http://www.w3.org/2000/svg\" version=\"1.1\"\n",
       "     width=\"150.0mm\" height=\"150.0mm\"\n",
       "     shape-rendering=\"crispEdges\">\n",
       "<rect x=\"0.0mm\" y=\"0.0mm\"\n",
       "      width=\"14.0mm\" height=\"14.0mm\"\n",
       "      fill=\"#000000\" stroke=\"none\" />\n",
       "<rect x=\"15.0mm\" y=\"0.0mm\"\n",
       "      width=\"14.0mm\" height=\"14.0mm\"\n",
       "      fill=\"#000000\" stroke=\"none\" />\n",
       "<rect x=\"30.0mm\" y=\"0.0mm\"\n",
       "      width=\"14.0mm\" height=\"14.0mm\"\n",
       "      fill=\"#000000\" stroke=\"none\" />\n",
       "<rect x=\"45.0mm\" y=\"0.0mm\"\n",
       "      width=\"14.0mm\" height=\"14.0mm\"\n",
       "      fill=\"#000000\" stroke=\"none\" />\n",
       "<rect x=\"60.0mm\" y=\"0.0mm\"\n",
       "      width=\"14.0mm\" height=\"14.0mm\"\n",
       "      fill=\"#000000\" stroke=\"none\" />\n",
       "<rect x=\"75.0mm\" y=\"0.0mm\"\n",
       "      width=\"14.0mm\" height=\"14.0mm\"\n",
       "      fill=\"#000000\" stroke=\"none\" />\n",
       "<rect x=\"90.0mm\" y=\"0.0mm\"\n",
       "      width=\"14.0mm\" height=\"14.0mm\"\n",
       "      fill=\"#000000\" stroke=\"none\" />\n",
       "<rect x=\"105.0mm\" y=\"0.0mm\"\n",
       "      width=\"14.0mm\" height=\"14.0mm\"\n",
       "      fill=\"#000000\" stroke=\"none\" />\n",
       "<rect x=\"120.0mm\" y=\"0.0mm\"\n",
       "      width=\"14.0mm\" height=\"14.0mm\"\n",
       "      fill=\"#000000\" stroke=\"none\" />\n",
       "<rect x=\"135.0mm\" y=\"0.0mm\"\n",
       "      width=\"14.0mm\" height=\"14.0mm\"\n",
       "      fill=\"#000000\" stroke=\"none\" />\n",
       "<rect x=\"0.0mm\" y=\"15.0mm\"\n",
       "      width=\"14.0mm\" height=\"14.0mm\"\n",
       "      fill=\"#000000\" stroke=\"none\" />\n",
       "<rect x=\"15.0mm\" y=\"15.0mm\"\n",
       "      width=\"14.0mm\" height=\"14.0mm\"\n",
       "      fill=\"#000000\" stroke=\"none\" />\n",
       "<rect x=\"30.0mm\" y=\"15.0mm\"\n",
       "      width=\"14.0mm\" height=\"14.0mm\"\n",
       "      fill=\"#000000\" stroke=\"none\" />\n",
       "<rect x=\"45.0mm\" y=\"15.0mm\"\n",
       "      width=\"14.0mm\" height=\"14.0mm\"\n",
       "      fill=\"#000000\" stroke=\"none\" />\n",
       "<rect x=\"60.0mm\" y=\"15.0mm\"\n",
       "      width=\"14.0mm\" height=\"14.0mm\"\n",
       "      fill=\"#000000\" stroke=\"none\" />\n",
       "<rect x=\"75.0mm\" y=\"15.0mm\"\n",
       "      width=\"14.0mm\" height=\"14.0mm\"\n",
       "      fill=\"#000000\" stroke=\"none\" />\n",
       "<rect x=\"90.0mm\" y=\"15.0mm\"\n",
       "      width=\"14.0mm\" height=\"14.0mm\"\n",
       "      fill=\"#000000\" stroke=\"none\" />\n",
       "<rect x=\"105.0mm\" y=\"15.0mm\"\n",
       "      width=\"14.0mm\" height=\"14.0mm\"\n",
       "      fill=\"#000000\" stroke=\"none\" />\n",
       "<rect x=\"120.0mm\" y=\"15.0mm\"\n",
       "      width=\"14.0mm\" height=\"14.0mm\"\n",
       "      fill=\"#000000\" stroke=\"none\" />\n",
       "<rect x=\"135.0mm\" y=\"15.0mm\"\n",
       "      width=\"14.0mm\" height=\"14.0mm\"\n",
       "      fill=\"#000000\" stroke=\"none\" />\n",
       "<rect x=\"0.0mm\" y=\"30.0mm\"\n",
       "      width=\"14.0mm\" height=\"14.0mm\"\n",
       "      fill=\"#000000\" stroke=\"none\" />\n",
       "<rect x=\"15.0mm\" y=\"30.0mm\"\n",
       "      width=\"14.0mm\" height=\"14.0mm\"\n",
       "      fill=\"#000000\" stroke=\"none\" />\n",
       "<rect x=\"30.0mm\" y=\"30.0mm\"\n",
       "      width=\"14.0mm\" height=\"14.0mm\"\n",
       "      fill=\"#000000\" stroke=\"none\" />\n",
       "<rect x=\"45.0mm\" y=\"30.0mm\"\n",
       "      width=\"14.0mm\" height=\"14.0mm\"\n",
       "      fill=\"#000000\" stroke=\"none\" />\n",
       "<rect x=\"60.0mm\" y=\"30.0mm\"\n",
       "      width=\"14.0mm\" height=\"14.0mm\"\n",
       "      fill=\"#000000\" stroke=\"none\" />\n",
       "<rect x=\"75.0mm\" y=\"30.0mm\"\n",
       "      width=\"14.0mm\" height=\"14.0mm\"\n",
       "      fill=\"#000000\" stroke=\"none\" />\n",
       "<rect x=\"90.0mm\" y=\"30.0mm\"\n",
       "      width=\"14.0mm\" height=\"14.0mm\"\n",
       "      fill=\"#000000\" stroke=\"none\" />\n",
       "<rect x=\"105.0mm\" y=\"30.0mm\"\n",
       "      width=\"14.0mm\" height=\"14.0mm\"\n",
       "      fill=\"#000000\" stroke=\"none\" />\n",
       "<rect x=\"120.0mm\" y=\"30.0mm\"\n",
       "      width=\"14.0mm\" height=\"14.0mm\"\n",
       "      fill=\"#000000\" stroke=\"none\" />\n",
       "<rect x=\"135.0mm\" y=\"30.0mm\"\n",
       "      width=\"14.0mm\" height=\"14.0mm\"\n",
       "      fill=\"#000000\" stroke=\"none\" />\n",
       "<rect x=\"0.0mm\" y=\"45.0mm\"\n",
       "      width=\"14.0mm\" height=\"14.0mm\"\n",
       "      fill=\"#000000\" stroke=\"none\" />\n",
       "<rect x=\"15.0mm\" y=\"45.0mm\"\n",
       "      width=\"14.0mm\" height=\"14.0mm\"\n",
       "      fill=\"#000000\" stroke=\"none\" />\n",
       "<rect x=\"30.0mm\" y=\"45.0mm\"\n",
       "      width=\"14.0mm\" height=\"14.0mm\"\n",
       "      fill=\"#000000\" stroke=\"none\" />\n",
       "<rect x=\"45.0mm\" y=\"45.0mm\"\n",
       "      width=\"14.0mm\" height=\"14.0mm\"\n",
       "      fill=\"#00D6FF\" stroke=\"none\" />\n",
       "<rect x=\"60.0mm\" y=\"45.0mm\"\n",
       "      width=\"14.0mm\" height=\"14.0mm\"\n",
       "      fill=\"#00D6FF\" stroke=\"none\" />\n",
       "<rect x=\"75.0mm\" y=\"45.0mm\"\n",
       "      width=\"14.0mm\" height=\"14.0mm\"\n",
       "      fill=\"#00D6FF\" stroke=\"none\" />\n",
       "<rect x=\"90.0mm\" y=\"45.0mm\"\n",
       "      width=\"14.0mm\" height=\"14.0mm\"\n",
       "      fill=\"#000000\" stroke=\"none\" />\n",
       "<rect x=\"105.0mm\" y=\"45.0mm\"\n",
       "      width=\"14.0mm\" height=\"14.0mm\"\n",
       "      fill=\"#000000\" stroke=\"none\" />\n",
       "<rect x=\"120.0mm\" y=\"45.0mm\"\n",
       "      width=\"14.0mm\" height=\"14.0mm\"\n",
       "      fill=\"#000000\" stroke=\"none\" />\n",
       "<rect x=\"135.0mm\" y=\"45.0mm\"\n",
       "      width=\"14.0mm\" height=\"14.0mm\"\n",
       "      fill=\"#000000\" stroke=\"none\" />\n",
       "<rect x=\"0.0mm\" y=\"60.0mm\"\n",
       "      width=\"14.0mm\" height=\"14.0mm\"\n",
       "      fill=\"#000000\" stroke=\"none\" />\n",
       "<rect x=\"15.0mm\" y=\"60.0mm\"\n",
       "      width=\"14.0mm\" height=\"14.0mm\"\n",
       "      fill=\"#000000\" stroke=\"none\" />\n",
       "<rect x=\"30.0mm\" y=\"60.0mm\"\n",
       "      width=\"14.0mm\" height=\"14.0mm\"\n",
       "      fill=\"#000000\" stroke=\"none\" />\n",
       "<rect x=\"45.0mm\" y=\"60.0mm\"\n",
       "      width=\"14.0mm\" height=\"14.0mm\"\n",
       "      fill=\"#00D6FF\" stroke=\"none\" />\n",
       "<rect x=\"60.0mm\" y=\"60.0mm\"\n",
       "      width=\"14.0mm\" height=\"14.0mm\"\n",
       "      fill=\"#00D6FF\" stroke=\"none\" />\n",
       "<rect x=\"75.0mm\" y=\"60.0mm\"\n",
       "      width=\"14.0mm\" height=\"14.0mm\"\n",
       "      fill=\"#00D6FF\" stroke=\"none\" />\n",
       "<rect x=\"90.0mm\" y=\"60.0mm\"\n",
       "      width=\"14.0mm\" height=\"14.0mm\"\n",
       "      fill=\"#000000\" stroke=\"none\" />\n",
       "<rect x=\"105.0mm\" y=\"60.0mm\"\n",
       "      width=\"14.0mm\" height=\"14.0mm\"\n",
       "      fill=\"#000000\" stroke=\"none\" />\n",
       "<rect x=\"120.0mm\" y=\"60.0mm\"\n",
       "      width=\"14.0mm\" height=\"14.0mm\"\n",
       "      fill=\"#000000\" stroke=\"none\" />\n",
       "<rect x=\"135.0mm\" y=\"60.0mm\"\n",
       "      width=\"14.0mm\" height=\"14.0mm\"\n",
       "      fill=\"#000000\" stroke=\"none\" />\n",
       "<rect x=\"0.0mm\" y=\"75.0mm\"\n",
       "      width=\"14.0mm\" height=\"14.0mm\"\n",
       "      fill=\"#000000\" stroke=\"none\" />\n",
       "<rect x=\"15.0mm\" y=\"75.0mm\"\n",
       "      width=\"14.0mm\" height=\"14.0mm\"\n",
       "      fill=\"#000000\" stroke=\"none\" />\n",
       "<rect x=\"30.0mm\" y=\"75.0mm\"\n",
       "      width=\"14.0mm\" height=\"14.0mm\"\n",
       "      fill=\"#000000\" stroke=\"none\" />\n",
       "<rect x=\"45.0mm\" y=\"75.0mm\"\n",
       "      width=\"14.0mm\" height=\"14.0mm\"\n",
       "      fill=\"#00D6FF\" stroke=\"none\" />\n",
       "<rect x=\"60.0mm\" y=\"75.0mm\"\n",
       "      width=\"14.0mm\" height=\"14.0mm\"\n",
       "      fill=\"#00D6FF\" stroke=\"none\" />\n",
       "<rect x=\"75.0mm\" y=\"75.0mm\"\n",
       "      width=\"14.0mm\" height=\"14.0mm\"\n",
       "      fill=\"#00D6FF\" stroke=\"none\" />\n",
       "<rect x=\"90.0mm\" y=\"75.0mm\"\n",
       "      width=\"14.0mm\" height=\"14.0mm\"\n",
       "      fill=\"#000000\" stroke=\"none\" />\n",
       "<rect x=\"105.0mm\" y=\"75.0mm\"\n",
       "      width=\"14.0mm\" height=\"14.0mm\"\n",
       "      fill=\"#000000\" stroke=\"none\" />\n",
       "<rect x=\"120.0mm\" y=\"75.0mm\"\n",
       "      width=\"14.0mm\" height=\"14.0mm\"\n",
       "      fill=\"#000000\" stroke=\"none\" />\n",
       "<rect x=\"135.0mm\" y=\"75.0mm\"\n",
       "      width=\"14.0mm\" height=\"14.0mm\"\n",
       "      fill=\"#000000\" stroke=\"none\" />\n",
       "<rect x=\"0.0mm\" y=\"90.0mm\"\n",
       "      width=\"14.0mm\" height=\"14.0mm\"\n",
       "      fill=\"#000000\" stroke=\"none\" />\n",
       "<rect x=\"15.0mm\" y=\"90.0mm\"\n",
       "      width=\"14.0mm\" height=\"14.0mm\"\n",
       "      fill=\"#000000\" stroke=\"none\" />\n",
       "<rect x=\"30.0mm\" y=\"90.0mm\"\n",
       "      width=\"14.0mm\" height=\"14.0mm\"\n",
       "      fill=\"#000000\" stroke=\"none\" />\n",
       "<rect x=\"45.0mm\" y=\"90.0mm\"\n",
       "      width=\"14.0mm\" height=\"14.0mm\"\n",
       "      fill=\"#000000\" stroke=\"none\" />\n",
       "<rect x=\"60.0mm\" y=\"90.0mm\"\n",
       "      width=\"14.0mm\" height=\"14.0mm\"\n",
       "      fill=\"#000000\" stroke=\"none\" />\n",
       "<rect x=\"75.0mm\" y=\"90.0mm\"\n",
       "      width=\"14.0mm\" height=\"14.0mm\"\n",
       "      fill=\"#000000\" stroke=\"none\" />\n",
       "<rect x=\"90.0mm\" y=\"90.0mm\"\n",
       "      width=\"14.0mm\" height=\"14.0mm\"\n",
       "      fill=\"#000000\" stroke=\"none\" />\n",
       "<rect x=\"105.0mm\" y=\"90.0mm\"\n",
       "      width=\"14.0mm\" height=\"14.0mm\"\n",
       "      fill=\"#000000\" stroke=\"none\" />\n",
       "<rect x=\"120.0mm\" y=\"90.0mm\"\n",
       "      width=\"14.0mm\" height=\"14.0mm\"\n",
       "      fill=\"#000000\" stroke=\"none\" />\n",
       "<rect x=\"135.0mm\" y=\"90.0mm\"\n",
       "      width=\"14.0mm\" height=\"14.0mm\"\n",
       "      fill=\"#000000\" stroke=\"none\" />\n",
       "<rect x=\"0.0mm\" y=\"105.0mm\"\n",
       "      width=\"14.0mm\" height=\"14.0mm\"\n",
       "      fill=\"#000000\" stroke=\"none\" />\n",
       "<rect x=\"15.0mm\" y=\"105.0mm\"\n",
       "      width=\"14.0mm\" height=\"14.0mm\"\n",
       "      fill=\"#000000\" stroke=\"none\" />\n",
       "<rect x=\"30.0mm\" y=\"105.0mm\"\n",
       "      width=\"14.0mm\" height=\"14.0mm\"\n",
       "      fill=\"#000000\" stroke=\"none\" />\n",
       "<rect x=\"45.0mm\" y=\"105.0mm\"\n",
       "      width=\"14.0mm\" height=\"14.0mm\"\n",
       "      fill=\"#000000\" stroke=\"none\" />\n",
       "<rect x=\"60.0mm\" y=\"105.0mm\"\n",
       "      width=\"14.0mm\" height=\"14.0mm\"\n",
       "      fill=\"#000000\" stroke=\"none\" />\n",
       "<rect x=\"75.0mm\" y=\"105.0mm\"\n",
       "      width=\"14.0mm\" height=\"14.0mm\"\n",
       "      fill=\"#000000\" stroke=\"none\" />\n",
       "<rect x=\"90.0mm\" y=\"105.0mm\"\n",
       "      width=\"14.0mm\" height=\"14.0mm\"\n",
       "      fill=\"#000000\" stroke=\"none\" />\n",
       "<rect x=\"105.0mm\" y=\"105.0mm\"\n",
       "      width=\"14.0mm\" height=\"14.0mm\"\n",
       "      fill=\"#000000\" stroke=\"none\" />\n",
       "<rect x=\"120.0mm\" y=\"105.0mm\"\n",
       "      width=\"14.0mm\" height=\"14.0mm\"\n",
       "      fill=\"#000000\" stroke=\"none\" />\n",
       "<rect x=\"135.0mm\" y=\"105.0mm\"\n",
       "      width=\"14.0mm\" height=\"14.0mm\"\n",
       "      fill=\"#000000\" stroke=\"none\" />\n",
       "<rect x=\"0.0mm\" y=\"120.0mm\"\n",
       "      width=\"14.0mm\" height=\"14.0mm\"\n",
       "      fill=\"#000000\" stroke=\"none\" />\n",
       "<rect x=\"15.0mm\" y=\"120.0mm\"\n",
       "      width=\"14.0mm\" height=\"14.0mm\"\n",
       "      fill=\"#000000\" stroke=\"none\" />\n",
       "<rect x=\"30.0mm\" y=\"120.0mm\"\n",
       "      width=\"14.0mm\" height=\"14.0mm\"\n",
       "      fill=\"#000000\" stroke=\"none\" />\n",
       "<rect x=\"45.0mm\" y=\"120.0mm\"\n",
       "      width=\"14.0mm\" height=\"14.0mm\"\n",
       "      fill=\"#000000\" stroke=\"none\" />\n",
       "<rect x=\"60.0mm\" y=\"120.0mm\"\n",
       "      width=\"14.0mm\" height=\"14.0mm\"\n",
       "      fill=\"#000000\" stroke=\"none\" />\n",
       "<rect x=\"75.0mm\" y=\"120.0mm\"\n",
       "      width=\"14.0mm\" height=\"14.0mm\"\n",
       "      fill=\"#000000\" stroke=\"none\" />\n",
       "<rect x=\"90.0mm\" y=\"120.0mm\"\n",
       "      width=\"14.0mm\" height=\"14.0mm\"\n",
       "      fill=\"#000000\" stroke=\"none\" />\n",
       "<rect x=\"105.0mm\" y=\"120.0mm\"\n",
       "      width=\"14.0mm\" height=\"14.0mm\"\n",
       "      fill=\"#000000\" stroke=\"none\" />\n",
       "<rect x=\"120.0mm\" y=\"120.0mm\"\n",
       "      width=\"14.0mm\" height=\"14.0mm\"\n",
       "      fill=\"#000000\" stroke=\"none\" />\n",
       "<rect x=\"135.0mm\" y=\"120.0mm\"\n",
       "      width=\"14.0mm\" height=\"14.0mm\"\n",
       "      fill=\"#000000\" stroke=\"none\" />\n",
       "<rect x=\"0.0mm\" y=\"135.0mm\"\n",
       "      width=\"14.0mm\" height=\"14.0mm\"\n",
       "      fill=\"#000000\" stroke=\"none\" />\n",
       "<rect x=\"15.0mm\" y=\"135.0mm\"\n",
       "      width=\"14.0mm\" height=\"14.0mm\"\n",
       "      fill=\"#000000\" stroke=\"none\" />\n",
       "<rect x=\"30.0mm\" y=\"135.0mm\"\n",
       "      width=\"14.0mm\" height=\"14.0mm\"\n",
       "      fill=\"#000000\" stroke=\"none\" />\n",
       "<rect x=\"45.0mm\" y=\"135.0mm\"\n",
       "      width=\"14.0mm\" height=\"14.0mm\"\n",
       "      fill=\"#000000\" stroke=\"none\" />\n",
       "<rect x=\"60.0mm\" y=\"135.0mm\"\n",
       "      width=\"14.0mm\" height=\"14.0mm\"\n",
       "      fill=\"#000000\" stroke=\"none\" />\n",
       "<rect x=\"75.0mm\" y=\"135.0mm\"\n",
       "      width=\"14.0mm\" height=\"14.0mm\"\n",
       "      fill=\"#000000\" stroke=\"none\" />\n",
       "<rect x=\"90.0mm\" y=\"135.0mm\"\n",
       "      width=\"14.0mm\" height=\"14.0mm\"\n",
       "      fill=\"#000000\" stroke=\"none\" />\n",
       "<rect x=\"105.0mm\" y=\"135.0mm\"\n",
       "      width=\"14.0mm\" height=\"14.0mm\"\n",
       "      fill=\"#000000\" stroke=\"none\" />\n",
       "<rect x=\"120.0mm\" y=\"135.0mm\"\n",
       "      width=\"14.0mm\" height=\"14.0mm\"\n",
       "      fill=\"#000000\" stroke=\"none\" />\n",
       "<rect x=\"135.0mm\" y=\"135.0mm\"\n",
       "      width=\"14.0mm\" height=\"14.0mm\"\n",
       "      fill=\"#000000\" stroke=\"none\" />\n",
       "</svg>"
      ],
      "text/plain": [
       "10×10 Array{ColorTypes.RGB{FixedPointNumbers.Normed{UInt8,8}},2}:\n",
       " RGB{N0f8}(0.0,0.0,0.0)  RGB{N0f8}(0.0,0.0,0.0)  …  RGB{N0f8}(0.0,0.0,0.0)\n",
       " RGB{N0f8}(0.0,0.0,0.0)  RGB{N0f8}(0.0,0.0,0.0)     RGB{N0f8}(0.0,0.0,0.0)\n",
       " RGB{N0f8}(0.0,0.0,0.0)  RGB{N0f8}(0.0,0.0,0.0)     RGB{N0f8}(0.0,0.0,0.0)\n",
       " RGB{N0f8}(0.0,0.0,0.0)  RGB{N0f8}(0.0,0.0,0.0)     RGB{N0f8}(0.0,0.0,0.0)\n",
       " RGB{N0f8}(0.0,0.0,0.0)  RGB{N0f8}(0.0,0.0,0.0)     RGB{N0f8}(0.0,0.0,0.0)\n",
       " RGB{N0f8}(0.0,0.0,0.0)  RGB{N0f8}(0.0,0.0,0.0)  …  RGB{N0f8}(0.0,0.0,0.0)\n",
       " RGB{N0f8}(0.0,0.0,0.0)  RGB{N0f8}(0.0,0.0,0.0)     RGB{N0f8}(0.0,0.0,0.0)\n",
       " RGB{N0f8}(0.0,0.0,0.0)  RGB{N0f8}(0.0,0.0,0.0)     RGB{N0f8}(0.0,0.0,0.0)\n",
       " RGB{N0f8}(0.0,0.0,0.0)  RGB{N0f8}(0.0,0.0,0.0)     RGB{N0f8}(0.0,0.0,0.0)\n",
       " RGB{N0f8}(0.0,0.0,0.0)  RGB{N0f8}(0.0,0.0,0.0)     RGB{N0f8}(0.0,0.0,0.0)"
      ]
     },
     "execution_count": 113,
     "metadata": {
      "comm_id": "a3922229-6fc5-40f3-afd3-20c74b427485",
      "reactive": true
     },
     "output_type": "execute_result"
    }
   ],
   "source": [
    "A = fill(colors[1], 10, 10)\n",
    "n = size(A, 1)\n",
    "\n",
    "@manipulate for i in 1:n-2, j in 1:n-2\n",
    "    insert_block(A, i, j, colors[4])\n",
    "end"
   ]
  },
  {
   "cell_type": "code",
   "execution_count": null,
   "metadata": {
    "collapsed": true
   },
   "outputs": [],
   "source": [
    "# Exercise: Create Tetris Pieces, have them fall from the top"
   ]
  }
 ],
 "metadata": {
  "anaconda-cloud": {},
  "kernelspec": {
   "display_name": "Julia 0.6.0",
   "language": "julia",
   "name": "julia-0.6"
  },
  "language_info": {
   "file_extension": ".jl",
   "mimetype": "application/julia",
   "name": "julia",
   "version": "0.6.0"
  },
  "toc": {
   "colors": {
    "hover_highlight": "#DAA520",
    "running_highlight": "#FF0000",
    "selected_highlight": "#FFD700"
   },
   "moveMenuLeft": true,
   "nav_menu": {
    "height": "248px",
    "width": "252px"
   },
   "navigate_menu": true,
   "number_sections": true,
   "sideBar": true,
   "threshold": "2",
   "toc_cell": false,
   "toc_section_display": "block",
   "toc_window_display": false
  },
  "widgets": {
   "state": {
    "03e03820-87b0-457b-ab42-ded0426544fd": {
     "views": [
      {
       "cell_index": 69
      }
     ]
    },
    "112a7d1d-27a4-41ed-86dd-495c55c3cc41": {
     "views": [
      {
       "cell_index": 76
      }
     ]
    },
    "303254d1-f92c-4694-bec9-228877cbfeaa": {
     "views": [
      {
       "cell_index": 32
      }
     ]
    },
    "3ab85729-787a-45d8-93bc-18d160c42925": {
     "views": [
      {
       "cell_index": 67
      }
     ]
    },
    "59018bf0-5304-420a-954c-b60b6ade41bc": {
     "views": [
      {
       "cell_index": 35
      }
     ]
    },
    "6596be93-5ae6-44d8-9928-118f26925ca2": {
     "views": [
      {
       "cell_index": 66
      }
     ]
    },
    "6ddddb05-e17f-4527-b346-b03c7654a9bd": {
     "views": [
      {
       "cell_index": 50
      }
     ]
    },
    "73b7ac02-1931-45ea-bab0-a0661446f2c4": {
     "views": [
      {
       "cell_index": 78
      }
     ]
    },
    "7fbfcf1d-2446-46b0-8c48-137bd1b04e59": {
     "views": [
      {
       "cell_index": 50
      }
     ]
    },
    "82e70dac-395e-4e4b-99d8-7c86157baef8": {
     "views": [
      {
       "cell_index": 67
      }
     ]
    },
    "9c1f13ea-b532-45c7-b638-4f2e0753e701": {
     "views": [
      {
       "cell_index": 33
      }
     ]
    },
    "a01da64b-6f5f-4ec4-bfb6-0dd4b5608910": {
     "views": [
      {
       "cell_index": 63
      }
     ]
    },
    "a0cab882-0559-4d6a-a78f-f1c28aafece6": {
     "views": [
      {
       "cell_index": 35
      }
     ]
    },
    "a81871a0-14a4-41b1-a6c5-4fcdccafa1ab": {
     "views": [
      {
       "cell_index": 69
      }
     ]
    },
    "b2248808-aeeb-40c7-a647-29ff9e394260": {
     "views": [
      {
       "cell_index": 65
      }
     ]
    },
    "b59a0470-d356-4c66-9c43-a590a92e4925": {
     "views": [
      {
       "cell_index": 66
      }
     ]
    },
    "b8661b37-c86d-484e-8225-0965da985371": {
     "views": [
      {
       "cell_index": 65
      }
     ]
    },
    "ba049dd3-9042-4cc9-acce-f07f08746316": {
     "views": [
      {
       "cell_index": 76
      }
     ]
    },
    "cbf99c6a-4771-4b80-a2bf-22d90cd5fb84": {
     "views": [
      {
       "cell_index": 74
      }
     ]
    },
    "e1aeaa28-549c-4032-b84e-ef9b2ba7a74e": {
     "views": [
      {
       "cell_index": 63
      }
     ]
    },
    "e1f5a7f1-25fe-4147-9ab0-c58a324d613a": {
     "views": [
      {
       "cell_index": 78
      }
     ]
    }
   },
   "version": "1.2.0"
  }
 },
 "nbformat": 4,
 "nbformat_minor": 2
}
