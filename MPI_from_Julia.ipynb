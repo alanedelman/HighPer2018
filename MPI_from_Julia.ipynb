{
 "cells": [
  {
   "cell_type": "markdown",
   "metadata": {},
   "source": [
    "# JULIA MPI First Example: pi computaton"
   ]
  },
  {
   "cell_type": "markdown",
   "metadata": {},
   "source": [
    "First step was to load MPI on my mac.  Seems mpich and openmpi are two reasonable choices\n",
    "with probably no beginner's reason to prefer one over the other. <br>\n",
    "\n",
    "I did  <t> brew install gcc </t> first to get the gcc compiler.  I ran into problems.  \n",
    "The magic thing that told me what to do was <t> brew doctor </t>.  It wanted me to type\n",
    "<t> xcode-select --install </t> and when I did, all was good.  I then typed\n",
    "<t> brew install mpich </t> and mpi was just working."
   ]
  },
  {
   "cell_type": "markdown",
   "metadata": {},
   "source": [
    "My first example was to reproduce <a href=\"http://www.mcs.anl.gov/research/projects/mpi/tutorial/mpiexmpl/src/pi/C/solution.html\">\n",
    "the classic mypi </a> in the notebook"
   ]
  },
  {
   "cell_type": "code",
   "execution_count": null,
   "metadata": {},
   "outputs": [],
   "source": [
    "Pkg.add(\"MPI\")"
   ]
  },
  {
   "cell_type": "code",
   "execution_count": 1,
   "metadata": {},
   "outputs": [],
   "source": [
    "using MPI"
   ]
  },
  {
   "cell_type": "code",
   "execution_count": 2,
   "metadata": {},
   "outputs": [
    {
     "data": {
      "text/plain": [
       "MPI.MPIManager(np=4,launched=false,mode=MPI_ON_WORKERS)"
      ]
     },
     "execution_count": 2,
     "metadata": {},
     "output_type": "execute_result"
    }
   ],
   "source": [
    "m = MPIManager(np=4)"
   ]
  },
  {
   "cell_type": "code",
   "execution_count": null,
   "metadata": {},
   "outputs": [],
   "source": []
  },
  {
   "cell_type": "code",
   "execution_count": 3,
   "metadata": {},
   "outputs": [
    {
     "data": {
      "text/plain": [
       "4-element Array{Int64,1}:\n",
       " 2\n",
       " 3\n",
       " 4\n",
       " 5"
      ]
     },
     "execution_count": 3,
     "metadata": {},
     "output_type": "execute_result"
    }
   ],
   "source": [
    "addprocs(m)\n",
    "#@mpi_do m comm = MPI.COMM_WORLD"
   ]
  },
  {
   "cell_type": "code",
   "execution_count": 4,
   "metadata": {},
   "outputs": [],
   "source": [
    "@mpi_do m comm = MPI.COMM_WORLD\n",
    "#\n",
    "# Enter number of intervals, and tell every processor\n",
    "# Traditional MPI would do this with a BCAST\n",
    " @mpi_do m n = 10"
   ]
  },
  {
   "cell_type": "code",
   "execution_count": 5,
   "metadata": {},
   "outputs": [
    {
     "name": "stdout",
     "output_type": "stream",
     "text": [
      "\tFrom worker 2:\t10\n",
      "\tFrom worker 3:\t10\n",
      "\tFrom worker 4:\t10\n",
      "\tFrom worker 5:\t10\n"
     ]
    }
   ],
   "source": [
    "# Let's see if the processors got it\n",
    "@mpi_do m println(n)"
   ]
  },
  {
   "cell_type": "code",
   "execution_count": 6,
   "metadata": {},
   "outputs": [
    {
     "name": "stdout",
     "output_type": "stream",
     "text": [
      "\tFrom worker 4:\t2\n",
      "\tFrom worker 5:\t3\n",
      "\tFrom worker 2:\t0\n",
      "\tFrom worker 3:\t1\n"
     ]
    }
   ],
   "source": [
    "# my MPI id\n",
    "@mpi_do m myid = MPI.Comm_rank(comm)\n",
    "@mpi_do m println(myid)"
   ]
  },
  {
   "cell_type": "code",
   "execution_count": 7,
   "metadata": {},
   "outputs": [
    {
     "name": "stdout",
     "output_type": "stream",
     "text": [
      "\tFrom worker 3:\t4\n",
      "\tFrom worker 4:\t4\n",
      "\tFrom worker 2:\t4\n",
      "\tFrom worker 5:\t4\n"
     ]
    }
   ],
   "source": [
    "# Get the number of processors\n",
    "@mpi_do m np = MPI.Comm_size(comm)\n",
    "@mpi_do m println(np)"
   ]
  },
  {
   "cell_type": "markdown",
   "metadata": {},
   "source": [
    "Compute $\\int_0^1 4/(1+x^2) dx= 4 atan(x)]_0^1$ which evaluates to $\\pi$"
   ]
  },
  {
   "cell_type": "code",
   "execution_count": 8,
   "metadata": {},
   "outputs": [
    {
     "name": "stdout",
     "output_type": "stream",
     "text": [
      "\tFrom worker 2:\t1.1146639167236572e-13\n",
      "  7.635322 seconds (3.49 k allocations: 226.630 KiB)\n"
     ]
    }
   ],
   "source": [
    "@time @mpi_do m begin\n",
    "    n = 50_000_000\n",
    "    comm = MPI.COMM_WORLD\n",
    "    s = 0.0\n",
    "    for i = MPI.Comm_rank(comm) + 1 : MPI.Comm_size(comm) : n \n",
    "        x = (i - .5)/n \n",
    "        s += 4/(1 + x^2) \n",
    "    end\n",
    "    mypi = s/n\n",
    "    our_π = MPI.Reduce(mypi, MPI.SUM, 0, comm)\n",
    "    if myid==0\n",
    "        println(our_π - π) \n",
    "    end\n",
    "end"
   ]
  },
  {
   "cell_type": "code",
   "execution_count": 10,
   "metadata": {},
   "outputs": [
    {
     "data": {
      "text/plain": [
       "4-element Array{Tuple{Float64,Irrational{:π}},1}:\n",
       " (-6.0e-8, π = 3.1415926535897...)    \n",
       " (-2.00002e-8, π = 3.1415926535897...)\n",
       " (1.99998e-8, π = 3.1415926535897...) \n",
       " (5.99999e-8, π = 3.1415926535897...) "
      ]
     },
     "execution_count": 10,
     "metadata": {},
     "output_type": "execute_result"
    }
   ],
   "source": [
    "[( @fetchfrom i π-4*mypi, π  )for i in workers()]"
   ]
  },
  {
   "cell_type": "code",
   "execution_count": 24,
   "metadata": {},
   "outputs": [
    {
     "data": {
      "text/plain": [
       "f_serial2 (generic function with 1 method)"
      ]
     },
     "execution_count": 24,
     "metadata": {},
     "output_type": "execute_result"
    }
   ],
   "source": [
    "function f_serial()\n",
    "    n = 50_000_000\n",
    "    h = 1/n\n",
    "    our_π = 0.0\n",
    "    for i = 0:h:1\n",
    "        our_π += 4/(1 + i^2)\n",
    "    end\n",
    "    our_π*h\n",
    "end\n",
    "\n",
    "function f_serial2(n) # or we can make n a variable\n",
    "    our_π = 0.0\n",
    "    h=1/n\n",
    "    for i = 1:n\n",
    "        x = (i - 0.5)*h\n",
    "        our_π += 4/(1 + x^2)\n",
    "    end\n",
    "    our_π/n\n",
    "end"
   ]
  },
  {
   "cell_type": "code",
   "execution_count": 23,
   "metadata": {},
   "outputs": [
    {
     "name": "stdout",
     "output_type": "stream",
     "text": [
      "  0.222391 seconds (5 allocations: 176 bytes)\n",
      "  0.217645 seconds (5 allocations: 176 bytes)\n"
     ]
    },
    {
     "data": {
      "text/plain": [
       "3.1415926535895617"
      ]
     },
     "execution_count": 23,
     "metadata": {},
     "output_type": "execute_result"
    }
   ],
   "source": [
    "f_serial() #warmup\n",
    "f_serial()\n",
    "f_serial2(50_000_000) #warmup\n",
    "@time f_serial()\n",
    "@time f_serial2(50_000_000)"
   ]
  },
  {
   "cell_type": "code",
   "execution_count": 25,
   "metadata": {},
   "outputs": [
    {
     "data": {
      "text/html": [
       "<div id=\"interact-js-shim\">\n",
       "    <script charset=\"utf-8\">\n",
       "(function (IPython, $, _, MathJax) {\n",
       "    $.event.special.destroyed = {\n",
       "\tremove: function(o) {\n",
       "\t    if (o.handler) {\n",
       "\t\to.handler.apply(this, arguments)\n",
       "\t    }\n",
       "\t}\n",
       "    }\n",
       "\n",
       "    var OutputArea = IPython.version >= \"4.0.0\" ? require(\"notebook/js/outputarea\").OutputArea : IPython.OutputArea;\n",
       "\n",
       "    var redrawValue = function (container, type, val) {\n",
       "\tvar selector = $(\"<div/>\");\n",
       "\tvar oa = new OutputArea(_.extend(selector, {\n",
       "\t    selector: selector,\n",
       "\t    prompt_area: true,\n",
       "\t    events: IPython.events,\n",
       "\t    keyboard_manager: IPython.keyboard_manager\n",
       "\t})); // Hack to work with IPython 2.1.0\n",
       "\n",
       "\tswitch (type) {\n",
       "\tcase \"image/png\":\n",
       "            var _src = 'data:' + type + ';base64,' + val;\n",
       "\t    $(container).find(\"img\").attr('src', _src);\n",
       "\t    break;\n",
       "\tcase \"text/latex\":\n",
       "\t\tif (MathJax){\n",
       "\t\t\tvar math = MathJax.Hub.getAllJax(container)[0];\n",
       "\t\t\tMathJax.Hub.Queue([\"Text\", math, val.replace(/^\\${1,2}|\\${1,2}$/g, '')]);\n",
       "\t\t\tbreak;\n",
       "\t\t}\n",
       "\tdefault:\n",
       "\t    var toinsert = OutputArea.append_map[type].apply(\n",
       "\t\toa, [val, {}, selector]\n",
       "\t    );\n",
       "\t    $(container).empty().append(toinsert.contents());\n",
       "\t    selector.remove();\n",
       "\t}\n",
       "    }\n",
       "\n",
       "\n",
       "    $(document).ready(function() {\n",
       "\tfunction initComm(evt, data) {\n",
       "\t    var comm_manager = data.kernel.comm_manager;\n",
       "        //_.extend(comm_manager.targets, require(\"widgets/js/widget\"))\n",
       "\t    comm_manager.register_target(\"Signal\", function (comm) {\n",
       "            comm.on_msg(function (msg) {\n",
       "                var val = msg.content.data.value;\n",
       "                $(\".signal-\" + comm.comm_id).each(function() {\n",
       "                var type = $(this).data(\"type\");\n",
       "                if (typeof(val[type]) !== \"undefined\" && val[type] !== null) {\n",
       "                    redrawValue(this, type, val[type], type);\n",
       "                }\n",
       "                });\n",
       "                delete val;\n",
       "                delete msg.content.data.value;\n",
       "            });\n",
       "\t    });\n",
       "\n",
       "\t    // coordingate with Comm and redraw Signals\n",
       "\t    // XXX: Test using Reactive here to improve performance\n",
       "\t    $([IPython.events]).on(\n",
       "\t\t'output_appended.OutputArea', function (event, type, value, md, toinsert) {\n",
       "\t\t    if (md && md.reactive) {\n",
       "                // console.log(md.comm_id);\n",
       "                toinsert.addClass(\"signal-\" + md.comm_id);\n",
       "                toinsert.data(\"type\", type);\n",
       "                // Signal back indicating the mimetype required\n",
       "                var comm_manager = IPython.notebook.kernel.comm_manager;\n",
       "                var comm = comm_manager.comms[md.comm_id];\n",
       "                comm.then(function (c) {\n",
       "                    c.send({action: \"subscribe_mime\",\n",
       "                       mime: type});\n",
       "                    toinsert.bind(\"destroyed\", function() {\n",
       "                        c.send({action: \"unsubscribe_mime\",\n",
       "                               mime: type});\n",
       "                    });\n",
       "                })\n",
       "\t\t    }\n",
       "\t    });\n",
       "\t}\n",
       "\n",
       "\ttry {\n",
       "\t    // try to initialize right away. otherwise, wait on the status_started event.\n",
       "\t    initComm(undefined, IPython.notebook);\n",
       "\t} catch (e) {\n",
       "\t    $([IPython.events]).on('kernel_created.Kernel kernel_created.Session', initComm);\n",
       "\t}\n",
       "    });\n",
       "})(IPython, jQuery, _, MathJax);\n",
       "</script>\n",
       "    <script>\n",
       "        window.interactLoadedFlag = true\n",
       "       $(\"#interact-js-shim\").bind(\"destroyed\", function () {\n",
       "           if (window.interactLoadedFlag) {\n",
       "               console.warn(\"JavaScript required by Interact will be removed if you remove this cell or run using Interact more than once.\")\n",
       "           }\n",
       "       })\n",
       "       $([IPython.events]).on(\"kernel_starting.Kernel kernel_restarting.Kernel\", function () { window.interactLoadedFlag = false })\n",
       "   </script>\n",
       "</div>"
      ]
     },
     "metadata": {},
     "output_type": "display_data"
    }
   ],
   "source": [
    "using Interact"
   ]
  },
  {
   "cell_type": "code",
   "execution_count": 36,
   "metadata": {},
   "outputs": [
    {
     "data": {
      "application/vnd.jupyter.widget-view+json": {
       "model_id": "dc49dab0-1b3f-4866-81d5-3ed195433672",
       "version_major": 2,
       "version_minor": 0
      }
     },
     "metadata": {},
     "output_type": "display_data"
    },
    {
     "data": {
      "text/html": [],
      "text/plain": [
       "Interact.Options{:ToggleButtons,Any}(37: \"input-10\" = 1000 Any , \"n\", 1000, \"1000\", 0, Interact.OptionDict(DataStructures.OrderedDict{Any,Any}(\"1000\"=>1000,\"10000\"=>10000,\"100000\"=>100000,\"1000000\"=>1000000,\"10000000\"=>10000000), Dict{Any,Any}(Pair{Any,Any}(1000000, \"1000000\"),Pair{Any,Any}(10000, \"10000\"),Pair{Any,Any}(100000, \"100000\"),Pair{Any,Any}(1000, \"1000\"),Pair{Any,Any}(10000000, \"10000000\"))), Any[], Any[], true, \"horizontal\")"
      ]
     },
     "metadata": {},
     "output_type": "display_data"
    },
    {
     "name": "stdout",
     "output_type": "stream",
     "text": [
      "3.141592653589793\n"
     ]
    },
    {
     "data": {
      "text/plain": [
       "3.1415927369231227"
      ]
     },
     "execution_count": 36,
     "metadata": {
      "comm_id": "5d5f0736-3877-470d-99ed-fd324876c20f",
      "reactive": true
     },
     "output_type": "execute_result"
    }
   ],
   "source": [
    "println(Float64(π))\n",
    "@manipulate for n = [1000, 10_000, 100_000, 1_000_000, 10_000_000]\n",
    "  f_serial2(n)\n",
    "end\n"
   ]
  },
  {
   "cell_type": "code",
   "execution_count": 38,
   "metadata": {},
   "outputs": [
    {
     "data": {
      "text/plain": [
       "f_par (generic function with 1 method)"
      ]
     },
     "execution_count": 38,
     "metadata": {},
     "output_type": "execute_result"
    }
   ],
   "source": [
    "function f_par(n)\n",
    "\n",
    " @mpi_do m begin\n",
    "    comm = MPI.COMM_WORLD\n",
    "        \n",
    "       \n",
    "    s = 0.0\n",
    "    for i = MPI.Comm_rank(comm) + 1 : MPI.Comm_size(comm) : $n \n",
    "        x = (i - .5)/$n \n",
    "        s += 4/(1 + x^2) \n",
    "    end\n",
    "    mypi = s/$n\n",
    "    our_π = MPI.Reduce(mypi, MPI.SUM, 0, comm)\n",
    "    #if myid==0\n",
    "     #   println(our_π - π) \n",
    "   # end\n",
    "end\n",
    "@fetchfrom 2 our_π   \n",
    "end"
   ]
  },
  {
   "cell_type": "code",
   "execution_count": 39,
   "metadata": {},
   "outputs": [
    {
     "name": "stdout",
     "output_type": "stream",
     "text": [
      "  0.112648 seconds (587 allocations: 40.344 KiB)\n"
     ]
    },
    {
     "data": {
      "text/plain": [
       "3.1415926535899046"
      ]
     },
     "execution_count": 39,
     "metadata": {},
     "output_type": "execute_result"
    }
   ],
   "source": [
    "@mpi_do m function _pi_sum_par(n)\n",
    "    comm = MPI.COMM_WORLD\n",
    "\n",
    "    s = 0.0\n",
    "    for i = MPI.Comm_rank(comm) + 1 : MPI.Comm_size(comm) : n\n",
    "        x = (i - .5)/n \n",
    "        s += 4/(1 + x^2) \n",
    "    end\n",
    "    mypi = s/n\n",
    "    our_π = MPI.Reduce(mypi, MPI.SUM, 0, comm)\n",
    "    return our_π\n",
    "end\n",
    "\n",
    "function f_par2(n)\n",
    "    @mpi_do m _pi_sum_par($n)\n",
    "    @fetchfrom 2 our_π\n",
    "end\n",
    "\n",
    "f_par(50_000_000) #warmup\n",
    "f_par(50_000_000)\n",
    "f_par2(50_000_000) #warmup\n",
    "@time f_par2(50_000_000)"
   ]
  },
  {
   "cell_type": "code",
   "execution_count": null,
   "metadata": {},
   "outputs": [],
   "source": [
    "π"
   ]
  },
  {
   "cell_type": "code",
   "execution_count": 40,
   "metadata": {},
   "outputs": [
    {
     "data": {
      "text/plain": [
       "7-element Array{Float64,1}:\n",
       "  8.33333e-8 \n",
       "  8.33331e-10\n",
       "  8.32312e-12\n",
       "  1.10134e-13\n",
       " -1.07025e-13\n",
       "  4.23661e-13\n",
       " -2.4869e-14 "
      ]
     },
     "execution_count": 40,
     "metadata": {},
     "output_type": "execute_result"
    }
   ],
   "source": [
    "[f_par(10^k) for k=3:9]-π"
   ]
  },
  {
   "cell_type": "code",
   "execution_count": 41,
   "metadata": {},
   "outputs": [],
   "source": [
    "using DistributedArrays"
   ]
  },
  {
   "cell_type": "code",
   "execution_count": 1,
   "metadata": {},
   "outputs": [
    {
     "name": "stderr",
     "output_type": "stream",
     "text": [
      "\u001b[1m\u001b[36mINFO: \u001b[39m\u001b[22m\u001b[36mBuilding Elemental\n",
      "\u001b[39mCMake Warning at CMakeLists.txt:250 (message):\n",
      "  Build mode not specified, defaulting to Release build.\n",
      "\n",
      "\n",
      "CMake Error at cmake/external_projects/ElMath.cmake:292 (message):\n",
      "  daxpy_64_ was not detected\n",
      "Call Stack (most recent call first):\n",
      "  CMakeLists.txt:358 (include)\n",
      "\n",
      "\n",
      "\u001b[1m\u001b[33m\u001b[39m\u001b[22m\u001b[33m==============================[ ERROR: Elemental ]==============================\u001b[39m\n",
      "\n",
      "\u001b[1m\u001b[33m\u001b[39m\u001b[22m\u001b[33mLoadError: \u001b[91mfailed process: Process(`cmake -D CMAKE_INSTALL_PREFIX=/Users/alanedelman/.julia/v0.6/Elemental/deps/usr -D INSTALL_PYTHON_PACKAGE=OFF -D PYTHON_EXECUTABLE= -D PYTHON_SITE_PACKAGES= -D EL_USE_64BIT_INTS=ON -D EL_USE_64BIT_BLAS_INTS=ON -D MATH_LIBS=/Applications/Julia-0.6.app/Contents/Resources/julia/lib/julia/libopenblas64_.dylib -D EL_BLAS_SUFFIX=_64_ -D EL_LAPACK_SUFFIX=_64_ -D CMAKE_INSTALL_RPATH=/Users/alanedelman/.julia/v0.6/Elemental/deps/usr/lib /Users/alanedelman/.julia/v0.6/Elemental/deps/src/Elemental`, ProcessExited(1)) [1]\u001b[39m\n",
      "while loading /Users/alanedelman/.julia/v0.6/Elemental/deps/build.jl, in expression starting on line 42\u001b[39m\n",
      "\n",
      "\u001b[1m\u001b[33m\u001b[39m\u001b[22m\u001b[33m================================================================================\u001b[39m\n",
      "\n",
      "\u001b[1m\u001b[33m\u001b[39m\u001b[22m\u001b[33m================================[ BUILD ERRORS ]================================\u001b[39m\n",
      "\n",
      "\u001b[1m\u001b[33m\u001b[39m\u001b[22m\u001b[33mWARNING: Elemental had build errors.\n",
      "\n",
      " - packages with build errors remain installed in /Users/alanedelman/.julia/v0.6\n",
      " - build the package(s) and all dependencies with `Pkg.build(\"Elemental\")`\n",
      " - build a single package by running its `deps/build.jl` script\u001b[39m\n",
      "\n",
      "\u001b[1m\u001b[33m\u001b[39m\u001b[22m\u001b[33m================================================================================\u001b[39m\n"
     ]
    }
   ],
   "source": [
    "Pkg.build(\"Elemental\")"
   ]
  },
  {
   "cell_type": "code",
   "execution_count": 42,
   "metadata": {},
   "outputs": [
    {
     "ename": "LoadError",
     "evalue": "LoadError: LoadError: \u001b[91merror compiling ElIntType: could not load library \"/Users/alanedelman/.julia/v0.6/Elemental/deps/usr/lib/libEl\"\ndlopen(/Users/alanedelman/.julia/v0.6/Elemental/deps/usr/lib/libEl.dylib, 1): image not found\u001b[39m\nwhile loading /Users/alanedelman/.julia/v0.6/Elemental/src/core/types.jl, in expression starting on line 8\nwhile loading /Users/alanedelman/.julia/v0.6/Elemental/src/Elemental.jl, in expression starting on line 46",
     "output_type": "error",
     "traceback": [
      "LoadError: LoadError: \u001b[91merror compiling ElIntType: could not load library \"/Users/alanedelman/.julia/v0.6/Elemental/deps/usr/lib/libEl\"\ndlopen(/Users/alanedelman/.julia/v0.6/Elemental/deps/usr/lib/libEl.dylib, 1): image not found\u001b[39m\nwhile loading /Users/alanedelman/.julia/v0.6/Elemental/src/core/types.jl, in expression starting on line 8\nwhile loading /Users/alanedelman/.julia/v0.6/Elemental/src/Elemental.jl, in expression starting on line 46",
      "",
      "Stacktrace:",
      " [1] \u001b[1minclude_from_node1\u001b[22m\u001b[22m\u001b[1m(\u001b[22m\u001b[22m::String\u001b[1m)\u001b[22m\u001b[22m at \u001b[1m./loading.jl:569\u001b[22m\u001b[22m",
      " [2] \u001b[1minclude\u001b[22m\u001b[22m\u001b[1m(\u001b[22m\u001b[22m::String\u001b[1m)\u001b[22m\u001b[22m at \u001b[1m./sysimg.jl:14\u001b[22m\u001b[22m",
      " [3] \u001b[1minclude_from_node1\u001b[22m\u001b[22m\u001b[1m(\u001b[22m\u001b[22m::String\u001b[1m)\u001b[22m\u001b[22m at \u001b[1m./loading.jl:569\u001b[22m\u001b[22m",
      " [4] \u001b[1meval\u001b[22m\u001b[22m\u001b[1m(\u001b[22m\u001b[22m::Module, ::Any\u001b[1m)\u001b[22m\u001b[22m at \u001b[1m./boot.jl:235\u001b[22m\u001b[22m",
      " [5] \u001b[1m_require\u001b[22m\u001b[22m\u001b[1m(\u001b[22m\u001b[22m::Symbol\u001b[1m)\u001b[22m\u001b[22m at \u001b[1m./loading.jl:472\u001b[22m\u001b[22m",
      " [6] \u001b[1mrequire\u001b[22m\u001b[22m\u001b[1m(\u001b[22m\u001b[22m::Symbol\u001b[1m)\u001b[22m\u001b[22m at \u001b[1m./loading.jl:398\u001b[22m\u001b[22m",
      " [7] \u001b[1minclude_string\u001b[22m\u001b[22m\u001b[1m(\u001b[22m\u001b[22m::String, ::String\u001b[1m)\u001b[22m\u001b[22m at \u001b[1m./loading.jl:515\u001b[22m\u001b[22m"
     ]
    }
   ],
   "source": [
    "using Elemental"
   ]
  },
  {
   "cell_type": "code",
   "execution_count": null,
   "metadata": {},
   "outputs": [],
   "source": [
    "A = drandn(1000, 800);"
   ]
  },
  {
   "cell_type": "code",
   "execution_count": null,
   "metadata": {},
   "outputs": [],
   "source": [
    "svdvals(A)"
   ]
  },
  {
   "cell_type": "code",
   "execution_count": null,
   "metadata": {},
   "outputs": [],
   "source": []
  }
 ],
 "metadata": {
  "anaconda-cloud": {},
  "kernelspec": {
   "display_name": "Julia 0.6.0",
   "language": "julia",
   "name": "julia-0.6"
  },
  "language_info": {
   "file_extension": ".jl",
   "mimetype": "application/julia",
   "name": "julia",
   "version": "0.6.0"
  }
 },
 "nbformat": 4,
 "nbformat_minor": 1
}
